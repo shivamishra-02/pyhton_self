{
 "cells": [
  {
   "cell_type": "code",
   "execution_count": 6,
   "id": "bea5c0f7",
   "metadata": {},
   "outputs": [],
   "source": [
    "import tkinter as tk\n",
    "\n",
    "def calculate():\n",
    "    result = eval(entry.get()) \n",
    "    label.config(text=\"Result:\" + str(result))\n",
    "                 \n",
    "root = tk.Tk()\n",
    "\n",
    "root.title(\"Calculator\")\n",
    "\n",
    "entry = tk. Entry(root)\n",
    "\n",
    "entry.pack()\n",
    "\n",
    "button = tk.Button(root, text=\"Calculate\", command=calculate)\n",
    "\n",
    "button.pack()\n",
    "\n",
    "label = tk.Label(root, text=\"Result:\")\n",
    "\n",
    "label.pack()\n",
    "\n",
    "root.mainloop()"
   ]
  },
  {
   "cell_type": "code",
   "execution_count": null,
   "id": "b00c14ae",
   "metadata": {},
   "outputs": [],
   "source": []
  }
 ],
 "metadata": {
  "kernelspec": {
   "display_name": "Python 3 (ipykernel)",
   "language": "python",
   "name": "python3"
  },
  "language_info": {
   "codemirror_mode": {
    "name": "ipython",
    "version": 3
   },
   "file_extension": ".py",
   "mimetype": "text/x-python",
   "name": "python",
   "nbconvert_exporter": "python",
   "pygments_lexer": "ipython3",
   "version": "3.9.12"
  }
 },
 "nbformat": 4,
 "nbformat_minor": 5
}
