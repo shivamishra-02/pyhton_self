{
 "cells": [
  {
   "cell_type": "code",
   "execution_count": 5,
   "id": "90aa71ab",
   "metadata": {},
   "outputs": [
    {
     "name": "stdout",
     "output_type": "stream",
     "text": [
      "Shivam mishra\n"
     ]
    }
   ],
   "source": [
    "def my_function():\n",
    "    print(\"Shivam mishra\")\n",
    "my_function()    "
   ]
  },
  {
   "cell_type": "code",
   "execution_count": 6,
   "id": "d46a1aa7",
   "metadata": {},
   "outputs": [
    {
     "name": "stdout",
     "output_type": "stream",
     "text": [
      "15\n",
      "25\n",
      "45\n"
     ]
    }
   ],
   "source": [
    "def my_function(X):\n",
    "    return 5*X\n",
    "print(my_function(3))\n",
    "print(my_function(5))\n",
    "print(my_function(9))"
   ]
  },
  {
   "cell_type": "code",
   "execution_count": 11,
   "id": "a3c7ff9a",
   "metadata": {},
   "outputs": [
    {
     "name": "stdout",
     "output_type": "stream",
     "text": [
      "enter number 1\n",
      "7\n",
      "Enter number 2\n",
      "9\n",
      "The sum is 16\n"
     ]
    }
   ],
   "source": [
    "def add_num(a,b):\n",
    "    sum=a+b;\n",
    "    return sum;\n",
    "num1=int(input(\"enter number 1\\n\"))\n",
    "num2=int(input(\"Enter number 2\\n\"))\n",
    "print(\"The sum is\",add_num(num1,num2))"
   ]
  },
  {
   "cell_type": "code",
   "execution_count": 18,
   "id": "c97da79f",
   "metadata": {},
   "outputs": [
    {
     "name": "stdout",
     "output_type": "stream",
     "text": [
      "Enter the number:-- 78\n",
      "even\n"
     ]
    }
   ],
   "source": [
    "def even_1(a):\n",
    "    if a%2==0:\n",
    "        p=\"even\"\n",
    "    else:\n",
    "        p= \"odd\"\n",
    "    return p    \n",
    "g=int(input(\"Enter the number:-- \"))\n",
    "print(even_1(g))"
   ]
  },
  {
   "cell_type": "code",
   "execution_count": 14,
   "id": "22c36349",
   "metadata": {},
   "outputs": [
    {
     "name": "stdout",
     "output_type": "stream",
     "text": [
      "None\n"
     ]
    },
    {
     "data": {
      "text/plain": [
       "25"
      ]
     },
     "execution_count": 14,
     "metadata": {},
     "output_type": "execute_result"
    }
   ],
   "source": [
    "def square(n):\n",
    "    return n**2\n",
    "print(square.__doc__)\n",
    "square(5)"
   ]
  },
  {
   "cell_type": "code",
   "execution_count": 21,
   "id": "e3553147",
   "metadata": {},
   "outputs": [
    {
     "name": "stdout",
     "output_type": "stream",
     "text": [
      "Enter the first number\n",
      "7\n",
      "Enter the second nnmber\n",
      "8\n",
      "Enter the third number\n",
      "9\n",
      "The largest number in these three is 9\n"
     ]
    }
   ],
   "source": [
    "#defenition to find largest\n",
    "def maximum(x,y,z):\n",
    "    if(x>=y) and (x>=z):\n",
    "        largest=x\n",
    "    elif(y>=x) and (y>=z):\n",
    "        largest=y\n",
    "    else:\n",
    "        largest=z\n",
    "    return largest    \n",
    "a=int(input(\"Enter the first number\\n\"))\n",
    "b=int(input(\"Enter the second nnmber\\n\"))\n",
    "c=int(input(\"Enter the third number\\n\"))\n",
    "print(\"The largest number in these three is\",maximum(a,b,c))\n",
    "        "
   ]
  },
  {
   "cell_type": "code",
   "execution_count": 25,
   "id": "be66a501",
   "metadata": {},
   "outputs": [
    {
     "name": "stdout",
     "output_type": "stream",
     "text": [
      "Enter the number to find the factorial5\n",
      "the factorial is :-- 120\n"
     ]
    }
   ],
   "source": [
    "def factorial(x):\n",
    "    facto = 1\n",
    "    if x < 0:\n",
    "        print(\"Factorial don't exist\")\n",
    "    elif x==0:\n",
    "        print(\"The factorial of zero is 1\")\n",
    "    else:\n",
    "        for i in range(1,x+1):\n",
    "            facto = facto*i\n",
    "    return facto\n",
    "num=int(input(\"Enter the number to find the factorial\"))\n",
    "print(\"the factorial is :--\",factorial(num))"
   ]
  },
  {
   "cell_type": "code",
   "execution_count": 1,
   "id": "29dc07f3",
   "metadata": {},
   "outputs": [
    {
     "name": "stdout",
     "output_type": "stream",
     "text": [
      "5\n"
     ]
    }
   ],
   "source": [
    "#function definition is here\n",
    "def printme(str):\n",
    "    print(str)\n",
    "    return\n",
    "# now you can call printme function\n",
    "printme(5)"
   ]
  },
  {
   "cell_type": "code",
   "execution_count": 9,
   "id": "a36f36f8",
   "metadata": {},
   "outputs": [
    {
     "name": "stdout",
     "output_type": "stream",
     "text": [
      "WELCOME TO SIMPLE MENSURATION PROBLEMS\n",
      "_____________________________________________\n",
      "CALCULATE THE AREA OF THESE FIGURES\n",
      "___________________________________\n",
      "1.circle\n",
      "2.Square\n",
      "3.Rectangle\n",
      "4.Triangle\n",
      "5.Exit\n",
      "___________________________________\n",
      "Enter your choice1\n",
      "___________________________________\n",
      "Area of shape choosen\n",
      "___________________________________\n"
     ]
    },
    {
     "ename": "NameError",
     "evalue": "name 'choice' is not defined",
     "output_type": "error",
     "traceback": [
      "\u001b[1;31m---------------------------------------------------------------------------\u001b[0m",
      "\u001b[1;31mNameError\u001b[0m                                 Traceback (most recent call last)",
      "Input \u001b[1;32mIn [9]\u001b[0m, in \u001b[0;36m<cell line: 37>\u001b[1;34m()\u001b[0m\n\u001b[0;32m     35\u001b[0m \u001b[38;5;28mprint\u001b[39m(\u001b[38;5;124m\"\u001b[39m\u001b[38;5;124mArea of shape choosen\u001b[39m\u001b[38;5;124m\"\u001b[39m)\n\u001b[0;32m     36\u001b[0m \u001b[38;5;28mprint\u001b[39m(\u001b[38;5;124m\"\u001b[39m\u001b[38;5;124m_\u001b[39m\u001b[38;5;124m\"\u001b[39m\u001b[38;5;241m*\u001b[39m\u001b[38;5;241m35\u001b[39m)\n\u001b[1;32m---> 37\u001b[0m \u001b[38;5;28mprint\u001b[39m(mensuration(\u001b[43mchoice\u001b[49m))\n",
      "\u001b[1;31mNameError\u001b[0m: name 'choice' is not defined"
     ]
    }
   ],
   "source": [
    "print(\"WELCOME TO SIMPLE MENSURATION PROBLEMS\")\n",
    "print(\"_\"*45)\n",
    "print(\"CALCULATE THE AREA OF THESE FIGURES\")\n",
    "print(\"_\"*35)\n",
    "print('''1.circle\n",
    "2.Square\n",
    "3.Rectangle\n",
    "4.Triangle\n",
    "5.Exit''')\n",
    "print(\"_\"*35)\n",
    "chioce=int(input(\"Enter your choice\"))\n",
    "print(\"_\"*35)\n",
    "def mensuration(choice):\n",
    "    \n",
    "    if choice==1:\n",
    "        r=int(input(\"Enter the radius of the circle\"))\n",
    "        area=3.14*r*r\n",
    "        \n",
    "    elif choice==2:\n",
    "        s=int(input(\"Enter the side of the square\"))\n",
    "        area=s**2\n",
    "    elif choice==3:\n",
    "        l=int(input(\"Enter the length of the rectangle\"))\n",
    "        b=int(input(\"Enter the length of the rectangle\"))\n",
    "        area=l*b\n",
    "    elif choice==4:\n",
    "        a=int(input(\"Enter the base length\"))\n",
    "        h=int(input(\"Enter the height of the triangle\"))\n",
    "        area=1/2*(a*h)\n",
    "    elif choice==5:\n",
    "        print(\"Exit from the program\")\n",
    "    else:\n",
    "        print(\"Sorry! plz choose 1-5 !\")\n",
    "    return area; \n",
    "print(\"Area of shape choosen\")\n",
    "print(\"_\"*35)\n",
    "print(mensuration(choice))\n",
    "        \n",
    "\n",
    "\n",
    "    "
   ]
  },
  {
   "cell_type": "code",
   "execution_count": 6,
   "id": "b6945166",
   "metadata": {},
   "outputs": [
    {
     "name": "stdout",
     "output_type": "stream",
     "text": [
      "Name:--  Ram\n",
      "Age:--  50\n"
     ]
    }
   ],
   "source": [
    "def printinfo(name,age):\n",
    "    print(\"Name:-- \",name)\n",
    "    print(\"Age:-- \",age)\n",
    "    return\n",
    "printinfo(age=50,name=\"Ram\")"
   ]
  },
  {
   "cell_type": "code",
   "execution_count": 7,
   "id": "2abad618",
   "metadata": {},
   "outputs": [
    {
     "name": "stdout",
     "output_type": "stream",
     "text": [
      "Student Details:--  Jessa 14\n",
      "Student Details:--  Jon 12\n",
      "Student Details:--  Donald 13\n"
     ]
    }
   ],
   "source": [
    "def student(name,age):\n",
    "    print(\"Student Details:-- \",name,age)\n",
    "    return\n",
    "student('Jessa',14)\n",
    "\n",
    "student(name='Jon',age=12)\n",
    "\n",
    "student('Donald',age=13)\n"
   ]
  },
  {
   "cell_type": "code",
   "execution_count": 12,
   "id": "d3b20522",
   "metadata": {},
   "outputs": [
    {
     "name": "stdout",
     "output_type": "stream",
     "text": [
      "john mark Studies in Fifth standard\n",
      "john gates Studies in Seventh standard\n",
      "john gates Studies in Fifth standard\n",
      "john seventh Studies in Fifth standard\n"
     ]
    }
   ],
   "source": [
    "def student(firstname,lastname=\"mark\",standard=\"Fifth\"):\n",
    "    print(firstname,lastname,'Studies in',standard,'standard')\n",
    "    \n",
    "# 1Positional argument\n",
    "student('john')\n",
    "#2 positional arugument\n",
    "student('john','gates','Seventh')\n",
    "#3 argument\n",
    "student('john','gates',)\n",
    "student('john','seventh')"
   ]
  },
  {
   "cell_type": "code",
   "execution_count": 2,
   "id": "9f606eaf",
   "metadata": {},
   "outputs": [
    {
     "name": "stdout",
     "output_type": "stream",
     "text": [
      "\n",
      " ram likes to read\n",
      "math c \n",
      "\n",
      " hari likes to read\n",
      "maths c c++ python \n"
     ]
    }
   ],
   "source": [
    "def func(name,*fav_sub):\n",
    "    print(\"\\n\",name,\"likes to read\")\n",
    "    for subject in fav_sub:\n",
    "        print(subject,end=\" \")\n",
    "    print()\n",
    "func(\"ram\",\"math\",\"c\")\n",
    "func(\"hari\",\"maths\",\"c\",\"c++\",\"python\")"
   ]
  },
  {
   "cell_type": "code",
   "execution_count": 21,
   "id": "8f5f544e",
   "metadata": {},
   "outputs": [
    {
     "name": "stdout",
     "output_type": "stream",
     "text": [
      "Average = 63.333333333333336\n"
     ]
    }
   ],
   "source": [
    "def percentage(*args):\n",
    "    sum=0\n",
    "    for i in args:\n",
    "        sum=sum+i\n",
    "    avg = sum/len(args)\n",
    "    print('Average =',avg)\n",
    "    \n",
    "percentage(56,61,73)    "
   ]
  },
  {
   "cell_type": "code",
   "execution_count": 7,
   "id": "5bafc09a",
   "metadata": {},
   "outputs": [
    {
     "name": "stdout",
     "output_type": "stream",
     "text": [
      "Value of total : 30\n",
      "value of total : 40\n"
     ]
    }
   ],
   "source": [
    "#function definition is here\n",
    "sum = lambda arg1, arg2: arg1 + arg2\n",
    "\n",
    "# now you can call sum as a function\n",
    "print(\"Value of total :\",sum(10,20))\n",
    "print(\"value of total :\",sum(20,20))"
   ]
  },
  {
   "cell_type": "code",
   "execution_count": 6,
   "id": "04bc9e84",
   "metadata": {},
   "outputs": [
    {
     "name": "stdout",
     "output_type": "stream",
     "text": [
      "Using regular fumction: 9\n",
      "Using lambda function: 16\n"
     ]
    }
   ],
   "source": [
    "def square(x):\n",
    "    return x*x\n",
    "\n",
    "lambda_sq=lambda x:x*x\n",
    "print(\"Using regular fumction:\",square(3))\n",
    "print(\"Using lambda function:\",lambda_sq(4))"
   ]
  },
  {
   "cell_type": "code",
   "execution_count": 8,
   "id": "dca0c20d",
   "metadata": {},
   "outputs": [
    {
     "name": "stdout",
     "output_type": "stream",
     "text": [
      "Inside the function local total 30\n",
      "Outside the function global total: 0\n"
     ]
    }
   ],
   "source": [
    "total=0\n",
    "def sum(arg1,arg2):\n",
    "    total=arg1+arg2;\n",
    "    print(\"Inside the function local total\",total)\n",
    "    return\n",
    "\n",
    "sum(10,20)\n",
    "print(\"Outside the function global total:\",total)"
   ]
  },
  {
   "cell_type": "code",
   "execution_count": 13,
   "id": "7e7e3856",
   "metadata": {},
   "outputs": [
    {
     "name": "stdout",
     "output_type": "stream",
     "text": [
      "Check for odd/even\n",
      "76\n",
      "given numberis even\n"
     ]
    }
   ],
   "source": [
    "def GFG():\n",
    "    i=int(input(\"Check for odd/even\\n\"))\n",
    "    #check i in odd or not\n",
    "    #using if and else keyword\n",
    "    if(i%2==0):\n",
    "        print(\"given numberis even\")\n",
    "    else:\n",
    "        print(\"Given number is odd\")\n",
    "        \n",
    "#call GFG function\n",
    "GFG()"
   ]
  },
  {
   "cell_type": "code",
   "execution_count": 14,
   "id": "d7eeb223",
   "metadata": {},
   "outputs": [
    {
     "name": "stdout",
     "output_type": "stream",
     "text": [
      "Originlal list: [10, 11, 12, 13, 14]\n",
      "New list: [100, 121, 144, 169, 196]\n"
     ]
    }
   ],
   "source": [
    "def mysquare(x):\n",
    "    return x**2\n",
    "mylist=[10,11,12,13,14]\n",
    "mob=map(mysquare,mylist)\n",
    "mylist1 = list(mob)\n",
    "print(\"Originlal list:\",mylist)\n",
    "print(\"New list:\",mylist1)"
   ]
  },
  {
   "cell_type": "code",
   "execution_count": null,
   "id": "571d0b9e",
   "metadata": {},
   "outputs": [],
   "source": [
    "#write a program to that accept string and convert string into uppercase and lowercase as well\n"
   ]
  },
  {
   "cell_type": "code",
   "execution_count": null,
   "id": "97db5cf6",
   "metadata": {},
   "outputs": [],
   "source": [
    "#program to reverse a number"
   ]
  }
 ],
 "metadata": {
  "kernelspec": {
   "display_name": "Python 3 (ipykernel)",
   "language": "python",
   "name": "python3"
  },
  "language_info": {
   "codemirror_mode": {
    "name": "ipython",
    "version": 3
   },
   "file_extension": ".py",
   "mimetype": "text/x-python",
   "name": "python",
   "nbconvert_exporter": "python",
   "pygments_lexer": "ipython3",
   "version": "3.9.12"
  }
 },
 "nbformat": 4,
 "nbformat_minor": 5
}
