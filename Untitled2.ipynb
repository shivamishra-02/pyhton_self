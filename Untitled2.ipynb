{
 "cells": [
  {
   "cell_type": "code",
   "execution_count": null,
   "id": "b48a8beb",
   "metadata": {},
   "outputs": [],
   "source": [
    "i=2\n",
    "while True:\n",
    "    if i%3==0:\n",
    "        break\n",
    "        print(i)\n",
    "        i+=2"
   ]
  },
  {
   "cell_type": "code",
   "execution_count": null,
   "id": "0ff894e1",
   "metadata": {},
   "outputs": [],
   "source": [
    "i=2\n",
    "while True:\n",
    "    if i%3==0:\n",
    "        break\n",
    "        print(i)\n",
    "        i+=2\n",
    "        "
   ]
  },
  {
   "cell_type": "code",
   "execution_count": null,
   "id": "e040aa9c",
   "metadata": {},
   "outputs": [],
   "source": []
  }
 ],
 "metadata": {
  "kernelspec": {
   "display_name": "Python 3 (ipykernel)",
   "language": "python",
   "name": "python3"
  },
  "language_info": {
   "codemirror_mode": {
    "name": "ipython",
    "version": 3
   },
   "file_extension": ".py",
   "mimetype": "text/x-python",
   "name": "python",
   "nbconvert_exporter": "python",
   "pygments_lexer": "ipython3",
   "version": "3.9.12"
  }
 },
 "nbformat": 4,
 "nbformat_minor": 5
}
