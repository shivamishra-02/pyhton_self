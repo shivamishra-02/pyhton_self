{
 "cells": [
  {
   "cell_type": "code",
   "execution_count": 2,
   "id": "0dd146f3",
   "metadata": {},
   "outputs": [
    {
     "name": "stdout",
     "output_type": "stream",
     "text": [
      "{'apple', 'cherry', 'banana'}\n",
      "{'orange', 'apple', 'cherry', 'banana'}\n"
     ]
    }
   ],
   "source": [
    "thisset={\"apple\",\"banana\",\"cherry\"}\n",
    "print(thisset)\n",
    "thisset.add(\"orange\")\n",
    "print(thisset)"
   ]
  },
  {
   "cell_type": "code",
   "execution_count": 4,
   "id": "95a76ddd",
   "metadata": {},
   "outputs": [
    {
     "name": "stdout",
     "output_type": "stream",
     "text": [
      "{1, 'c', 2, 3, 'a', 'b'}\n"
     ]
    }
   ],
   "source": [
    "set1={\"a\",\"b\",\"c\"}\n",
    "set2={1,2,3}\n",
    "set3=set1.union(set2)\n",
    "print(set3)"
   ]
  },
  {
   "cell_type": "code",
   "execution_count": 5,
   "id": "b444e011",
   "metadata": {},
   "outputs": [
    {
     "name": "stdout",
     "output_type": "stream",
     "text": [
      "{1, 2, 3, 4, 5, 6}\n",
      "{1, 2, 3, 4, 5, 6, 7, 8, 9}\n"
     ]
    }
   ],
   "source": [
    "a={1,2,3,4,5,6,6}\n",
    "print(a)\n",
    "b={4,5,6,7,8,9}\n",
    "a.update(b)\n",
    "print(a)"
   ]
  },
  {
   "cell_type": "code",
   "execution_count": 8,
   "id": "74c69b4d",
   "metadata": {},
   "outputs": [
    {
     "name": "stdout",
     "output_type": "stream",
     "text": [
      "{4, 5, 6, 7}\n"
     ]
    }
   ],
   "source": [
    "a={1,2,3,4,5,6,7}\n",
    "b={4,5,6,7,8,9}\n",
    "a &=b  #to find common btwn the  set a and b (a=a&b)\n",
    "print(a)"
   ]
  },
  {
   "cell_type": "code",
   "execution_count": 9,
   "id": "a43b7221",
   "metadata": {},
   "outputs": [
    {
     "name": "stdout",
     "output_type": "stream",
     "text": [
      "{10, 20}\n",
      "{100, 60}\n"
     ]
    }
   ],
   "source": [
    "a={10,20,30,40,80}\n",
    "b={100,30,80,40,60}\n",
    "print(a.difference(b)) #jo a me hai aur b me nhi hai\n",
    "print(b.difference(a)) #jo b me hai aur a me nhi hai"
   ]
  },
  {
   "cell_type": "code",
   "execution_count": null,
   "id": "d1313efe",
   "metadata": {},
   "outputs": [],
   "source": [
    "import os\n",
    "\n",
    "os.getcwd()"
   ]
  },
  {
   "cell_type": "code",
   "execution_count": 1,
   "id": "f4f4685c",
   "metadata": {},
   "outputs": [
    {
     "name": "stdout",
     "output_type": "stream",
     "text": [
      "\n"
     ]
    }
   ],
   "source": [
    "#to read any file in c-user-shivam mishra\n",
    "fo=open(\"sub.txt\",\"r+\")\n",
    "print(fo.read())"
   ]
  },
  {
   "cell_type": "code",
   "execution_count": 6,
   "id": "cd65c740",
   "metadata": {},
   "outputs": [
    {
     "ename": "NameError",
     "evalue": "name 'ff' is not defined",
     "output_type": "error",
     "traceback": [
      "\u001b[1;31m---------------------------------------------------------------------------\u001b[0m",
      "\u001b[1;31mNameError\u001b[0m                                 Traceback (most recent call last)",
      "Input \u001b[1;32mIn [6]\u001b[0m, in \u001b[0;36m<cell line: 3>\u001b[1;34m()\u001b[0m\n\u001b[0;32m      1\u001b[0m \u001b[38;5;66;03m#to write any file which is in c-user-shivam mishra\u001b[39;00m\n\u001b[0;32m      2\u001b[0m fo\u001b[38;5;241m=\u001b[39m\u001b[38;5;28mopen\u001b[39m(\u001b[38;5;124m\"\u001b[39m\u001b[38;5;124msub.txt\u001b[39m\u001b[38;5;124m\"\u001b[39m,\u001b[38;5;124m\"\u001b[39m\u001b[38;5;124mw+\u001b[39m\u001b[38;5;124m\"\u001b[39m)\n\u001b[1;32m----> 3\u001b[0m \u001b[38;5;28mprint\u001b[39m(fo\u001b[38;5;241m.\u001b[39mwrite(\u001b[43mff\u001b[49m))\n",
      "\u001b[1;31mNameError\u001b[0m: name 'ff' is not defined"
     ]
    }
   ],
   "source": [
    "#to write any file which is in c-user-shivam mishra\n",
    "fo=open(\"sub.txt\",\"w+\")\n",
    "print(fo.write())"
   ]
  },
  {
   "cell_type": "code",
   "execution_count": 25,
   "id": "71382891",
   "metadata": {},
   "outputs": [
    {
     "name": "stdout",
     "output_type": "stream",
     "text": [
      "shivam\n"
     ]
    }
   ],
   "source": [
    "fo=open(\"sub.txt\",\"r+\")\n",
    "print(fo.read())"
   ]
  },
  {
   "cell_type": "code",
   "execution_count": 24,
   "id": "9375ca34",
   "metadata": {},
   "outputs": [
    {
     "name": "stdout",
     "output_type": "stream",
     "text": [
      "shivam\n"
     ]
    }
   ],
   "source": [
    "#to read any file in c-user-shivam mishra (the file must be created first to read)\n",
    "fo=open(\"sub.txt\",\"r+\")\n",
    "print(fo.read())"
   ]
  },
  {
   "cell_type": "code",
   "execution_count": 23,
   "id": "efe536f9",
   "metadata": {},
   "outputs": [
    {
     "data": {
      "text/plain": [
       "'C:\\\\Users\\\\shivam mishra'"
      ]
     },
     "execution_count": 23,
     "metadata": {},
     "output_type": "execute_result"
    }
   ],
   "source": [
    "import os\n",
    "\n",
    "os.getcwd()"
   ]
  },
  {
   "cell_type": "code",
   "execution_count": 2,
   "id": "a507bb2e",
   "metadata": {},
   "outputs": [
    {
     "name": "stdout",
     "output_type": "stream",
     "text": [
      "Create a file and these are contents\n"
     ]
    }
   ],
   "source": [
    "#create a file \"sub8.txt\"\n",
    "fo=open(\"sub8.txt\",\"wt+\")\n",
    "fo.write(\"Create a file and these are contents\")\n",
    "fo=open(\"sub8.txt\",\"r+\")\n",
    "print(fo.read())"
   ]
  },
  {
   "cell_type": "code",
   "execution_count": 5,
   "id": "a45f4ba1",
   "metadata": {},
   "outputs": [
    {
     "name": "stdout",
     "output_type": "stream",
     "text": [
      "['shivam']\n"
     ]
    }
   ],
   "source": [
    "#kisi v excel file ko open krke usko print krwana tab jb wo c-users-shivam mishra me ho\n",
    "import csv\n",
    "with open('excel1.csv') as f:\n",
    "    reader1=csv.reader(f)\n",
    "    for row in reader1:\n",
    "        print(row)"
   ]
  },
  {
   "cell_type": "code",
   "execution_count": 6,
   "id": "69f71d59",
   "metadata": {},
   "outputs": [],
   "source": [
    "import csv\n",
    "with open('su21.csv','w') as csvfile:\n",
    "    swriter = csv.writer(csvfile)\n",
    "    #spamwriter.\n",
    "    swriter.writerow(['name','ram 15pamnew','ram 1Shivam','mishra','rose'])"
   ]
  },
  {
   "cell_type": "code",
   "execution_count": 1,
   "id": "0e4a2b1e",
   "metadata": {},
   "outputs": [
    {
     "name": "stdout",
     "output_type": "stream",
     "text": [
      "Hello\n",
      "Nothing went wrong\n"
     ]
    }
   ],
   "source": [
    "#the try block does not raise any errors, so the else block\n",
    "try:\n",
    "    print(\"Hello\")\n",
    "except:\n",
    "    print(\"Something went wrong\")\n",
    "else:\n",
    "    print(\"Nothing went wrong\")"
   ]
  },
  {
   "cell_type": "code",
   "execution_count": 4,
   "id": "99087882",
   "metadata": {},
   "outputs": [
    {
     "name": "stdout",
     "output_type": "stream",
     "text": [
      "An exception occured\n"
     ]
    }
   ],
   "source": [
    "#the try block will generate an error because x is not defined\n",
    "try:\n",
    "    print(x)\n",
    "except:\n",
    "    print(\"An exception occured\")"
   ]
  },
  {
   "cell_type": "code",
   "execution_count": 9,
   "id": "16d174b2",
   "metadata": {},
   "outputs": [
    {
     "name": "stdout",
     "output_type": "stream",
     "text": [
      "Variable x  is not defined\n"
     ]
    }
   ],
   "source": [
    "#print one message if the try block raises a NameError and another for other errors\n",
    "try:\n",
    "    print(x)\n",
    "except NameError:\n",
    "    print(\"Variable x  is not defined\")\n",
    "except:\n",
    "    print(\"Something else went wrong\")"
   ]
  },
  {
   "cell_type": "code",
   "execution_count": 10,
   "id": "07913417",
   "metadata": {},
   "outputs": [
    {
     "name": "stdout",
     "output_type": "stream",
     "text": [
      "Second element =2\n",
      "An error occured\n"
     ]
    }
   ],
   "source": [
    "a=[1,2,3]\n",
    "try:\n",
    "    print(\"Second element =%d\" %(a[1]))\n",
    "    #throws back since there are only 3 elements in \n",
    "    print(\"Fourth element = %d\" %a[3])\n",
    "except:\n",
    "    print(\"An error occured\")"
   ]
  },
  {
   "cell_type": "code",
   "execution_count": null,
   "id": "c7d0c15e",
   "metadata": {},
   "outputs": [],
   "source": []
  }
 ],
 "metadata": {
  "kernelspec": {
   "display_name": "Python 3 (ipykernel)",
   "language": "python",
   "name": "python3"
  },
  "language_info": {
   "codemirror_mode": {
    "name": "ipython",
    "version": 3
   },
   "file_extension": ".py",
   "mimetype": "text/x-python",
   "name": "python",
   "nbconvert_exporter": "python",
   "pygments_lexer": "ipython3",
   "version": "3.9.12"
  }
 },
 "nbformat": 4,
 "nbformat_minor": 5
}
