{
 "cells": [
  {
   "cell_type": "code",
   "execution_count": 3,
   "id": "6df5eddb",
   "metadata": {},
   "outputs": [
    {
     "ename": "SyntaxError",
     "evalue": "invalid syntax (2457700084.py, line 4)",
     "output_type": "error",
     "traceback": [
      "\u001b[1;36m  Input \u001b[1;32mIn [3]\u001b[1;36m\u001b[0m\n\u001b[1;33m    result = eval(entry.get()) label.config(text=\"Result: + str(result))\u001b[0m\n\u001b[1;37m                               ^\u001b[0m\n\u001b[1;31mSyntaxError\u001b[0m\u001b[1;31m:\u001b[0m invalid syntax\n"
     ]
    }
   ],
   "source": [
    "import tkinter as tk\n",
    "\n",
    "def calculate():\n",
    "    result = eval(entry.get()) label.config(text=\"Result: + str(result)\n",
    "                                            root = tk.Tk()\n",
    "                                            root.title(\"Calculator\")\n",
    "                                            entry = tk. Entry(root)\n",
    "\n",
    "entry.pack()\n",
    "\n",
    "button = tk.Button(root, text=\"Calculate\", command=calculate)\n",
    "\n",
    "button.pack()\n",
    "\n",
    "label = tk.Label(root, text=\"Result:\")\n",
    "\n",
    "label.pack()\n",
    "\n",
    "root.mainloop()"
   ]
  },
  {
   "cell_type": "code",
   "execution_count": null,
   "id": "b62d75c8",
   "metadata": {},
   "outputs": [],
   "source": []
  }
 ],
 "metadata": {
  "kernelspec": {
   "display_name": "Python 3 (ipykernel)",
   "language": "python",
   "name": "python3"
  },
  "language_info": {
   "codemirror_mode": {
    "name": "ipython",
    "version": 3
   },
   "file_extension": ".py",
   "mimetype": "text/x-python",
   "name": "python",
   "nbconvert_exporter": "python",
   "pygments_lexer": "ipython3",
   "version": "3.9.12"
  }
 },
 "nbformat": 4,
 "nbformat_minor": 5
}
