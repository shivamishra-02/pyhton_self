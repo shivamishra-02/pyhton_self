{
 "cells": [
  {
   "cell_type": "code",
   "execution_count": 1,
   "id": "00308d7c",
   "metadata": {},
   "outputs": [
    {
     "ename": "NameError",
     "evalue": "name 'Shivam' is not defined",
     "output_type": "error",
     "traceback": [
      "\u001b[1;31m---------------------------------------------------------------------------\u001b[0m",
      "\u001b[1;31mNameError\u001b[0m                                 Traceback (most recent call last)",
      "Input \u001b[1;32mIn [1]\u001b[0m, in \u001b[0;36m<cell line: 1>\u001b[1;34m()\u001b[0m\n\u001b[1;32m----> 1\u001b[0m \u001b[38;5;28;01mclass\u001b[39;00m \u001b[38;5;21;01mShivam\u001b[39;00m:\n\u001b[0;32m      2\u001b[0m     a\u001b[38;5;241m=\u001b[39mShivam\n\u001b[0;32m      3\u001b[0m \u001b[38;5;28mprint\u001b[39m(Shivam)\n",
      "Input \u001b[1;32mIn [1]\u001b[0m, in \u001b[0;36mShivam\u001b[1;34m()\u001b[0m\n\u001b[0;32m      1\u001b[0m \u001b[38;5;28;01mclass\u001b[39;00m \u001b[38;5;21;01mShivam\u001b[39;00m:\n\u001b[1;32m----> 2\u001b[0m     a\u001b[38;5;241m=\u001b[39m\u001b[43mShivam\u001b[49m\n",
      "\u001b[1;31mNameError\u001b[0m: name 'Shivam' is not defined"
     ]
    }
   ],
   "source": [
    "class Shivam:\n",
    "    a=Shivam\n",
    "print(Shivam)"
   ]
  },
  {
   "cell_type": "code",
   "execution_count": 2,
   "id": "9b4ebc9a",
   "metadata": {},
   "outputs": [],
   "source": [
    "import tkinter as tk\n",
    "\n",
    "class Calculator:\n",
    "    def __init__(self, root):\n",
    "        self.root = root\n",
    "        self.root.title(\"Calculator\")\n",
    "        \n",
    "        self.entry = tk.Entry(root, width=20, font=('Arial', 16))\n",
    "        self.entry.grid(row=0, column=0, columnspan=4)\n",
    "        \n",
    "        buttons = [\n",
    "            ('7', 1, 0), ('8', 1, 1), ('9', 1, 2), ('/', 1, 3),\n",
    "            ('4', 2, 0), ('5', 2, 1), ('6', 2, 2), ('*', 2, 3),\n",
    "            ('1', 3, 0), ('2', 3, 1), ('3', 3, 2), ('-', 3, 3),\n",
    "            ('0', 4, 0), ('.', 4, 1), ('=', 4, 2), ('+', 4, 3)\n",
    "        ]\n",
    "        \n",
    "        for (text, row, col) in buttons:\n",
    "            button = tk.Button(root, text=text, font=('Arial', 16), command=lambda t=text: self.on_button_click(t))\n",
    "            button.grid(row=row, column=col)\n",
    "        \n",
    "        self.pending_operation = None\n",
    "        self.first_operand = ''\n",
    "        \n",
    "    def on_button_click(self, text):\n",
    "        if text.isdigit() or text == '.':\n",
    "            self.entry.insert(tk.END, text)\n",
    "        elif text == '=':\n",
    "            try:\n",
    "                result = str(eval(self.entry.get()))\n",
    "                self.entry.delete(0, tk.END)\n",
    "                self.entry.insert(0, result)\n",
    "            except:\n",
    "                self.entry.delete(0, tk.END)\n",
    "                self.entry.insert(0, \"Error\")\n",
    "        else:\n",
    "            self.first_operand = self.entry.get()\n",
    "            self.pending_operation = text\n",
    "            self.entry.delete(0, tk.END)\n",
    "\n",
    "root = tk.Tk()\n",
    "calculator = Calculator(root)\n",
    "root.mainloop()\n",
    "\n"
   ]
  },
  {
   "cell_type": "code",
   "execution_count": 1,
   "id": "ec1a0acd",
   "metadata": {},
   "outputs": [
    {
     "name": "stdout",
     "output_type": "stream",
     "text": [
      "5\n"
     ]
    }
   ],
   "source": [
    "class Myclass:\n",
    "    x=5\n",
    "p1=Myclass() #declaring object\n",
    "print(p1.x)  #Assessing a Class member\n"
   ]
  },
  {
   "cell_type": "code",
   "execution_count": 22,
   "id": "6b924d4d",
   "metadata": {},
   "outputs": [
    {
     "name": "stdout",
     "output_type": "stream",
     "text": [
      "Ujjval\n",
      "8\n"
     ]
    }
   ],
   "source": [
    "class Students:\n",
    "    def __init__(abc,name,age):\n",
    "        abc.name=name  #initialising the object variable using init function\n",
    "        abc.age=age\n",
    "p2=Students(\"Ujjval\",8)\n",
    "print(p2.name)\n",
    "print(p2.age)"
   ]
  },
  {
   "cell_type": "code",
   "execution_count": 6,
   "id": "d77ab668",
   "metadata": {},
   "outputs": [
    {
     "name": "stdout",
     "output_type": "stream",
     "text": [
      "Shivam\n",
      "<class '__main__.Father'>\n",
      "<class '__main__.Son'>\n"
     ]
    }
   ],
   "source": [
    "class Grandfather:\n",
    "    def __init__(self,name,age):\n",
    "        self.name=name\n",
    "        self.age=age\n",
    "        \n",
    "class Father:\n",
    "    def __init__(self,name,age):\n",
    "        self.name=name\n",
    "        self.age=age\n",
    "class Son:\n",
    "    def __init__(self,name,age):\n",
    "        self.name=name\n",
    "        self.age=age\n",
    "        \n",
    "p1=Grandfather(Father,20)\n",
    "p2=Father(Son,25)\n",
    "p3=Son(\"Shivam\",20)\n",
    "\n",
    "print(p3.name)\n",
    "print(p1.name)\n",
    "print(p2.name)"
   ]
  },
  {
   "cell_type": "code",
   "execution_count": 10,
   "id": "7b56faae",
   "metadata": {},
   "outputs": [
    {
     "name": "stdout",
     "output_type": "stream",
     "text": [
      "4\n",
      "--------\n",
      "4\n",
      "--------\n",
      "BMW\n",
      "--------\n"
     ]
    },
    {
     "ename": "AttributeError",
     "evalue": "type object 'Car' has no attribute 'name'",
     "output_type": "error",
     "traceback": [
      "\u001b[1;31m---------------------------------------------------------------------------\u001b[0m",
      "\u001b[1;31mAttributeError\u001b[0m                            Traceback (most recent call last)",
      "Input \u001b[1;32mIn [10]\u001b[0m, in \u001b[0;36m<cell line: 13>\u001b[1;34m()\u001b[0m\n\u001b[0;32m     11\u001b[0m \u001b[38;5;28mprint\u001b[39m(p1\u001b[38;5;241m.\u001b[39mname) \u001b[38;5;66;03m#access of instance variable through object\u001b[39;00m\n\u001b[0;32m     12\u001b[0m \u001b[38;5;28mprint\u001b[39m(\u001b[38;5;124m\"\u001b[39m\u001b[38;5;124m-\u001b[39m\u001b[38;5;124m\"\u001b[39m\u001b[38;5;241m*\u001b[39m\u001b[38;5;241m8\u001b[39m)\n\u001b[1;32m---> 13\u001b[0m \u001b[38;5;28mprint\u001b[39m(\u001b[43mCar\u001b[49m\u001b[38;5;241;43m.\u001b[39;49m\u001b[43mname\u001b[49m)\n",
      "\u001b[1;31mAttributeError\u001b[0m: type object 'Car' has no attribute 'name'"
     ]
    }
   ],
   "source": [
    "class Car:\n",
    "    wheel = 4  #class variable\n",
    "    def __init__(self,name):\n",
    "        self.name=name  #instance variable\n",
    "        \n",
    "p1=Car(\"BMW\") #access of class variable through object\n",
    "print(p1.wheel)\n",
    "print(\"-\"*8)\n",
    "print(Car.wheel) #access of class variable through class\n",
    "print(\"-\"*8)\n",
    "print(p1.name) #access of instance variable through object\n",
    "print(\"-\"*8)\n",
    "print(Car.name) #but we can't asscess the instance variable through class and it will show error"
   ]
  },
  {
   "cell_type": "code",
   "execution_count": 20,
   "id": "058c2d75",
   "metadata": {},
   "outputs": [
    {
     "ename": "TypeError",
     "evalue": "__init__() missing 2 required positional arguments: 'name' and 'count'",
     "output_type": "error",
     "traceback": [
      "\u001b[1;31m---------------------------------------------------------------------------\u001b[0m",
      "\u001b[1;31mTypeError\u001b[0m                                 Traceback (most recent call last)",
      "Input \u001b[1;32mIn [20]\u001b[0m, in \u001b[0;36m<cell line: 20>\u001b[1;34m()\u001b[0m\n\u001b[0;32m     17\u001b[0m         \u001b[38;5;28;01mif\u001b[39;00m \u001b[38;5;18m__name__\u001b[39m\u001b[38;5;241m==\u001b[39m\u001b[38;5;124m\"\u001b[39m\u001b[38;5;124m__main__\u001b[39m\u001b[38;5;124m\"\u001b[39m:\n\u001b[0;32m     18\u001b[0m             main()\n\u001b[1;32m---> 20\u001b[0m f1\u001b[38;5;241m=\u001b[39m\u001b[43mFruits\u001b[49m\u001b[43m(\u001b[49m\u001b[43m)\u001b[49m\n\u001b[0;32m     21\u001b[0m \u001b[38;5;28mprint\u001b[39m(f1\u001b[38;5;241m.\u001b[39mmain)\n",
      "\u001b[1;31mTypeError\u001b[0m: __init__() missing 2 required positional arguments: 'name' and 'count'"
     ]
    }
   ],
   "source": [
    "class Fruits(object):\n",
    "    count=0\n",
    "    def __init__(self,name,count):\n",
    "        self.name=name\n",
    "        self.count=count\n",
    "        Fruits.count = Fruits.count+count\n",
    "        \n",
    "    def main():\n",
    "        apples=Fruits(\"apples\",3)\n",
    "        guava=Fruits(\"guava\",4)\n",
    "        mango=Fruits(\"mango\",7)\n",
    "        print(apples.count)\n",
    "        print(guava.count)\n",
    "        print(mango.count)\n",
    "        print(apples.__class__.count)\n",
    "        print(type(mango).count)\n",
    "        if __name__==\"__main__\":\n",
    "            main()\n",
    "            \n",
    "f1=Fruits()\n",
    "print(f1.main)"
   ]
  },
  {
   "cell_type": "code",
   "execution_count": 23,
   "id": "d9433355",
   "metadata": {},
   "outputs": [
    {
     "name": "stdout",
     "output_type": "stream",
     "text": [
      "[2, 4, 6]\n",
      "[3, 5, 7]\n"
     ]
    }
   ],
   "source": [
    "class Numbers:\n",
    "    odd=[]\n",
    "    even=[]\n",
    "    def __init__(self,num):\n",
    "        self.num=num\n",
    "        if self.num%2==0:\n",
    "            Numbers.even.append(num)\n",
    "        else:\n",
    "            Numbers.odd.append(num)\n",
    "            \n",
    "n1=Numbers(2)\n",
    "n2=Numbers(3)\n",
    "n3=Numbers(4)\n",
    "n4=Numbers(5)\n",
    "n5=Numbers(6)\n",
    "n6=Numbers(7)\n",
    "\n",
    "print(Numbers.even)\n",
    "print(Numbers.odd)\n"
   ]
  },
  {
   "cell_type": "code",
   "execution_count": 1,
   "id": "cf7cb068",
   "metadata": {},
   "outputs": [
    {
     "name": "stdout",
     "output_type": "stream",
     "text": [
      "Student: Alice\n",
      "Marks in Subjects: [85, 90, 78]\n",
      "Average marks: 84.33333333333333\n",
      "\n",
      "\n",
      "Student: Bob\n",
      "Marks in Subjects: [75, 82, 88]\n",
      "Average marks: 81.66666666666667\n"
     ]
    }
   ],
   "source": [
    "class Student:\n",
    "    def __init__(self, name):\n",
    "        self.name = name\n",
    "        self.marks = [0, 0, 0]  # Initialize with zeros for three subjects\n",
    "    \n",
    "    def set_marks(self, subject, marks):\n",
    "        if 1 <= subject <= 3:\n",
    "            self.marks[subject - 1] = marks\n",
    "        else:\n",
    "            print(\"Invalid subject number\")\n",
    "\n",
    "    def get_average(self):\n",
    "        total_marks = sum(self.marks)\n",
    "        average = total_marks / len(self.marks)\n",
    "        return average\n",
    "\n",
    "    def display_info(self):\n",
    "        print(f\"Student: {self.name}\")\n",
    "        print(\"Marks in Subjects:\", self.marks)\n",
    "        print(\"Average marks:\", self.get_average())\n",
    "\n",
    "# Create instances of Student class\n",
    "student1 = Student(\"Alice\")\n",
    "student2 = Student(\"Bob\")\n",
    "\n",
    "# Set marks for students\n",
    "student1.set_marks(1, 85)  # Subject 1\n",
    "student1.set_marks(2, 90)  # Subject 2\n",
    "student1.set_marks(3, 78)  # Subject 3\n",
    "\n",
    "student2.set_marks(1, 75)\n",
    "student2.set_marks(2, 82)\n",
    "student2.set_marks(3, 88)\n",
    "\n",
    "# Display information\n",
    "student1.display_info()\n",
    "print(\"\\n\")\n",
    "student2.display_info()\n"
   ]
  },
  {
   "cell_type": "code",
   "execution_count": 2,
   "id": "03a14d81",
   "metadata": {},
   "outputs": [
    {
     "name": "stdout",
     "output_type": "stream",
     "text": [
      "driving.maxspeed200\n",
      "driving.maxspeed200\n"
     ]
    }
   ],
   "source": [
    "class Car:\n",
    "    __maxspeed=0\n",
    "    __name=\"\"\n",
    "    def __init__(self):\n",
    "        self.__maxspeed=200\n",
    "        self.__name=\"Thar\"\n",
    "    def drive(self):\n",
    "        print('driving.maxspeed'+str(self.__maxspeed))\n",
    "redcar=Car()\n",
    "redcar.drive()\n",
    "redcar.__maxspeed=10\n",
    "redcar.drive()"
   ]
  },
  {
   "cell_type": "markdown",
   "id": "f4067cdf",
   "metadata": {},
   "source": [
    "# write a program to deposite or withdraw money in bank account"
   ]
  },
  {
   "cell_type": "code",
   "execution_count": 1,
   "id": "d9c3789a",
   "metadata": {},
   "outputs": [
    {
     "name": "stdout",
     "output_type": "stream",
     "text": [
      "New account created:\n",
      "\n",
      "Enter amount to deposite5000\n",
      "Enter the amount to withdraw2000\n",
      "New balance 2000.0\n",
      "Balance 2000.0\n"
     ]
    }
   ],
   "source": [
    "class Account:\n",
    "    def __init__(self):\n",
    "        self.balance=0\n",
    "        print(\"New account created:\\n\")\n",
    "    def deposite(self):\n",
    "        amount=float(input(\"Enter amount to deposite: \\n\"))\n",
    "        self.balance+=amount\n",
    "    def withdraw(self):\n",
    "        amount=float(input(\"Enter the amount to withdraw: \\n\"))\n",
    "        if amount>self.balance:\n",
    "            print(\"Insufficient Balance\")\n",
    "        else:\n",
    "            self.balance=amount\n",
    "            print(\"New balance\",self.balance)\n",
    "    def enquiry(self):\n",
    "        print(\"Balance\",self.balance)\n",
    "        \n",
    "account=Account()\n",
    "account.deposite()\n",
    "account.withdraw()\n",
    "account.enquiry()"
   ]
  },
  {
   "cell_type": "code",
   "execution_count": null,
   "id": "30679bfd",
   "metadata": {},
   "outputs": [],
   "source": []
  }
 ],
 "metadata": {
  "kernelspec": {
   "display_name": "Python 3 (ipykernel)",
   "language": "python",
   "name": "python3"
  },
  "language_info": {
   "codemirror_mode": {
    "name": "ipython",
    "version": 3
   },
   "file_extension": ".py",
   "mimetype": "text/x-python",
   "name": "python",
   "nbconvert_exporter": "python",
   "pygments_lexer": "ipython3",
   "version": "3.9.12"
  }
 },
 "nbformat": 4,
 "nbformat_minor": 5
}
