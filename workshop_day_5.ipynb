{
 "cells": [
  {
   "cell_type": "code",
   "execution_count": 1,
   "id": "80da61c5",
   "metadata": {},
   "outputs": [
    {
     "name": "stdout",
     "output_type": "stream",
     "text": [
      "msg[ 0 ]= H\n",
      "msg[ 1 ]= e\n",
      "msg[ 2 ]= l\n",
      "msg[ 3 ]= l\n",
      "msg[ 4 ]= o\n",
      "msg[ 5 ]= !\n"
     ]
    }
   ],
   "source": [
    "msg=\"Hello!\"\n",
    "index=0\n",
    "for i in msg:\n",
    "    print(\"msg[\",index,\"]=\",i)\n",
    "    index+=1"
   ]
  },
  {
   "cell_type": "code",
   "execution_count": 3,
   "id": "836faf16",
   "metadata": {},
   "outputs": [
    {
     "name": "stdout",
     "output_type": "stream",
     "text": [
      "o\n",
      "r\n",
      "a\n",
      "n\n",
      "g\n",
      "e\n"
     ]
    }
   ],
   "source": [
    "for x in \"orange\":\n",
    "    print(x)"
   ]
  },
  {
   "cell_type": "code",
   "execution_count": 4,
   "id": "0e5f97d3",
   "metadata": {},
   "outputs": [
    {
     "name": "stdout",
     "output_type": "stream",
     "text": [
      "Hello world\n"
     ]
    }
   ],
   "source": [
    "str1=\"Hello\"\n",
    "str2=\"world\"\n",
    "str3=(str1+\" \"+str2)\n",
    "print(str3)"
   ]
  },
  {
   "cell_type": "code",
   "execution_count": 6,
   "id": "36e9e738",
   "metadata": {},
   "outputs": [
    {
     "name": "stdout",
     "output_type": "stream",
     "text": [
      "Iniital string\n",
      "Hello, I'm at NIET\n",
      "Hepllo, I'm at NIET\n"
     ]
    }
   ],
   "source": [
    "string1=\"Hello, I'm at NIET\"\n",
    "print(\"Iniital string\")\n",
    "print(string1)\n",
    "\n",
    "#updating the character of the string\n",
    "string1=string1[:2]+\"p\"+string1[2:]\n",
    "\n",
    "#string1 =string1[:3]+\"p\"+string1[3:]\n",
    "print(string1)"
   ]
  },
  {
   "cell_type": "code",
   "execution_count": 7,
   "id": "f00413a6",
   "metadata": {},
   "outputs": [
    {
     "name": "stdout",
     "output_type": "stream",
     "text": [
      "Initial string: \n",
      "\n",
      "Deleting entire string: \n"
     ]
    },
    {
     "ename": "NameError",
     "evalue": "name 'string1' is not defined",
     "output_type": "error",
     "traceback": [
      "\u001b[1;31m---------------------------------------------------------------------------\u001b[0m",
      "\u001b[1;31mNameError\u001b[0m                                 Traceback (most recent call last)",
      "Input \u001b[1;32mIn [7]\u001b[0m, in \u001b[0;36m<cell line: 8>\u001b[1;34m()\u001b[0m\n\u001b[0;32m      6\u001b[0m \u001b[38;5;28;01mdel\u001b[39;00m string1\n\u001b[0;32m      7\u001b[0m \u001b[38;5;28mprint\u001b[39m(\u001b[38;5;124m\"\u001b[39m\u001b[38;5;130;01m\\n\u001b[39;00m\u001b[38;5;124mDeleting entire string: \u001b[39m\u001b[38;5;124m\"\u001b[39m)\n\u001b[1;32m----> 8\u001b[0m \u001b[38;5;28mprint\u001b[39m(\u001b[43mstring1\u001b[49m)\n",
      "\u001b[1;31mNameError\u001b[0m: name 'string1' is not defined"
     ]
    }
   ],
   "source": [
    "string1=\"Hello, I am an Indian\"\n",
    "print(\"Initial string: \")\n",
    "\n",
    "#deleting string\n",
    "#with the use of del\n",
    "del string1\n",
    "print(\"\\nDeleting entire string: \")\n",
    "print(string1)"
   ]
  },
  {
   "cell_type": "code",
   "execution_count": 9,
   "id": "df6999f0",
   "metadata": {},
   "outputs": [
    {
     "name": "stdout",
     "output_type": "stream",
     "text": [
      "NIET for ENGINEERING\n",
      "\n",
      "Print String in order of keywords: \n",
      "CAREER for NIET\n"
     ]
    }
   ],
   "source": [
    "# default order\n",
    "string1=\"{} {} {}\".format('NIET','for','ENGINEERING')\n",
    "print(string1)\n",
    "#positional formatting\n",
    "string1=\"{1} {0} {2}\".format('NIET','For','PLACEMENT')\n",
    "nt=(\"\\nPrint string in positional order\")\n",
    "\n",
    "#keyword formatting\n",
    "string1=\"{l} {f} {g}\".format(g='NIET',f='for',l='CAREER')\n",
    "print(\"\\nPrint String in order of keywords: \")\n",
    "print(string1)"
   ]
  },
  {
   "cell_type": "code",
   "execution_count": 12,
   "id": "6753ad27",
   "metadata": {},
   "outputs": [
    {
     "name": "stdout",
     "output_type": "stream",
     "text": [
      "enter your age: \n",
      "18\n",
      "My name is Shivam, I am 18 yrs old\n"
     ]
    }
   ],
   "source": [
    "# format specifier, {} placeholder\n",
    "age=int(input(\"enter your age: \\n\"))\n",
    "txt=\"My name is Shivam, I am {} yrs old\"\n",
    "print(txt.format(age))"
   ]
  },
  {
   "cell_type": "code",
   "execution_count": 16,
   "id": "075257f1",
   "metadata": {},
   "outputs": [
    {
     "name": "stdout",
     "output_type": "stream",
     "text": [
      "\n",
      "Binary represantion of 16 is: \n",
      "10000\n"
     ]
    }
   ],
   "source": [
    "string1=\"{0:b}\".format(16)\n",
    "print(\"\\nBinary represantion of 16 is: \")\n",
    "print(string1)\n",
    "\n"
   ]
  },
  {
   "cell_type": "code",
   "execution_count": 14,
   "id": "16069e88",
   "metadata": {},
   "outputs": [
    {
     "name": "stdout",
     "output_type": "stream",
     "text": [
      "\n",
      " exponent representation of 165.6458 is: \n",
      "1.656458e+02\n"
     ]
    }
   ],
   "source": [
    "#formatting of floats\n",
    "string1=\"{0:e}\".format(165.6458)\n",
    "print(\"\\n exponent representation of 165.6458 is: \")\n",
    "print(string1)"
   ]
  },
  {
   "cell_type": "code",
   "execution_count": 15,
   "id": "319b628b",
   "metadata": {},
   "outputs": [
    {
     "name": "stdout",
     "output_type": "stream",
     "text": [
      "0.17\n"
     ]
    }
   ],
   "source": [
    "#rounding of integers\n",
    "string1=\"{0:.2f}\".format(1/6)\n",
    "print(string1)"
   ]
  },
  {
   "cell_type": "code",
   "execution_count": 19,
   "id": "62e62ef9",
   "metadata": {},
   "outputs": [
    {
     "name": "stdout",
     "output_type": "stream",
     "text": [
      "\n",
      "Left, center and right alignment with Formatting: \n"
     ]
    },
    {
     "data": {
      "text/plain": [
       "'|NIET      |    IS    |      BEST|'"
      ]
     },
     "execution_count": 19,
     "metadata": {},
     "output_type": "execute_result"
    }
   ],
   "source": [
    "# string alignment\n",
    "string1=\"|{:<10}|{:^10}|{:>10}|\".format('NIET','IS','BEST')\n",
    "print(\"\\nLeft, center and right alignment with Formatting: \")\n",
    "string1"
   ]
  },
  {
   "cell_type": "code",
   "execution_count": 22,
   "id": "b3d1e660",
   "metadata": {},
   "outputs": [
    {
     "name": "stdout",
     "output_type": "stream",
     "text": [
      "\n",
      "      NIET       was founded in 2002\n"
     ]
    }
   ],
   "source": [
    "#demonstarte alignment spaces\n",
    "string1=\"\\n{0:^16} was founded in {1:<4}\".format(\"NIET\",2002,\"!\")\n",
    "print(string1)"
   ]
  },
  {
   "cell_type": "code",
   "execution_count": 25,
   "id": "d0fe894e",
   "metadata": {},
   "outputs": [
    {
     "name": "stdout",
     "output_type": "stream",
     "text": [
      "*******Hello shivam******\n",
      "Hello shivam*********\n",
      "*********Hello shivam\n"
     ]
    }
   ],
   "source": [
    "a=\"Hello shivam\"\n",
    "print(a.center(25,\"*\"))\n",
    "print(a.ljust(21,\"*\"))\n",
    "print(a.rjust(21,\"*\"))\n"
   ]
  },
  {
   "cell_type": "code",
   "execution_count": 28,
   "id": "9590e53f",
   "metadata": {},
   "outputs": [
    {
     "name": "stdout",
     "output_type": "stream",
     "text": [
      "H\n",
      "z\n"
     ]
    }
   ],
   "source": [
    "# min(str) = return the lowest alphabetical characters\n",
    "a=\"Hellofriendz\"\n",
    "print(min(a))\n",
    "print(max(a))"
   ]
  },
  {
   "cell_type": "code",
   "execution_count": 30,
   "id": "8a0d8d6f",
   "metadata": {},
   "outputs": [
    {
     "name": "stdout",
     "output_type": "stream",
     "text": [
      "13\n"
     ]
    }
   ],
   "source": [
    "def find_len(str):\n",
    "    counter=0\n",
    "    for i in str:\n",
    "        counter+=1\n",
    "    return counter\n",
    "str=\"Shivam mishra\"\n",
    "print(find_len(str))"
   ]
  },
  {
   "cell_type": "code",
   "execution_count": 33,
   "id": "269d6f0c",
   "metadata": {},
   "outputs": [
    {
     "name": "stdout",
     "output_type": "stream",
     "text": [
      "match not found\n",
      "match found\n"
     ]
    }
   ],
   "source": [
    "# match function tries to match thr pattern from the very beggening of the string\n",
    "# re.match(pattern,string)\n",
    "import re\n",
    "a=\"She shells sea shells on the sea shore\"\n",
    "p=\"shells\"\n",
    "z=\"she\"\n",
    "x=re.match(p,a)\n",
    "if x:\n",
    "    print(\"match found\")\n",
    "else:\n",
    "    print(\"match not found\")\n",
    "y=re.match(z,p)\n",
    "if y:\n",
    "    print(\"match found\")\n",
    "else:\n",
    "    print(\"match not found\")\n"
   ]
  },
  {
   "cell_type": "code",
   "execution_count": 35,
   "id": "a138b0ff",
   "metadata": {},
   "outputs": [
    {
     "name": "stdout",
     "output_type": "stream",
     "text": [
      "match found\n"
     ]
    }
   ],
   "source": [
    "import re\n",
    "a=\"She shells sea shells on the sea shore\"\n",
    "p=\"shells\"\n",
    "z=\"she\"\n",
    "x=re.sub(p,z,a,2)\n",
    "if x:\n",
    "    if re.search(p,a):\n",
    "        print(\"match found\")\n",
    "    else:\n",
    "        print(\"match not found\")"
   ]
  },
  {
   "cell_type": "code",
   "execution_count": 36,
   "id": "3fbee0b0",
   "metadata": {},
   "outputs": [
    {
     "name": "stdout",
     "output_type": "stream",
     "text": [
      "[]\n",
      "No match\n"
     ]
    }
   ],
   "source": [
    "#Return an empty list if no match was found: or Returns a \n",
    "import re\n",
    "txt=\"The rain in Spain\"\n",
    "#Check if \"pourtugal\" is in the string\n",
    "x = re.findall(\"Pourtugal\",txt)\n",
    "print(x)\n",
    "if (x):\n",
    "    print(\"Yes, there is at least one match!\")\n",
    "else:\n",
    "    print(\"No match\")"
   ]
  },
  {
   "cell_type": "code",
   "execution_count": 9,
   "id": "6ce09a13",
   "metadata": {},
   "outputs": [
    {
     "name": "stdout",
     "output_type": "stream",
     "text": [
      "1\n",
      "3\n",
      "6\n",
      "4\n"
     ]
    }
   ],
   "source": [
    "list=[1,2,3,4,5,6]\n",
    "print(list[0])\n",
    "print(list[2])\n",
    "print(list[-1])\n",
    "print(list[-3])"
   ]
  },
  {
   "cell_type": "code",
   "execution_count": 10,
   "id": "e4e2c7ff",
   "metadata": {},
   "outputs": [
    {
     "name": "stdout",
     "output_type": "stream",
     "text": [
      "Initial list: []\n",
      "\n",
      "List after addition of three elements\n",
      "[1, 2, 3]\n"
     ]
    }
   ],
   "source": [
    "list=[]\n",
    "print(\"Initial list:\",list)\n",
    "list.append(1)\n",
    "list.append(2)\n",
    "list.append(3)\n",
    "print(\"\\nList after addition of three elements\")\n",
    "print(list)"
   ]
  },
  {
   "cell_type": "code",
   "execution_count": 11,
   "id": "d1429af8",
   "metadata": {},
   "outputs": [
    {
     "name": "stdout",
     "output_type": "stream",
     "text": [
      "\n",
      "List after adding elements from 1-3: \n",
      "[1, 2, 3]\n"
     ]
    }
   ],
   "source": [
    "list=[]\n",
    "for i in range(1,4):\n",
    "    list.append(i)\n",
    "print(\"\\nList after adding elements from 1-3: \")    \n",
    "print(list)"
   ]
  },
  {
   "cell_type": "code",
   "execution_count": 13,
   "id": "9c623746",
   "metadata": {},
   "outputs": [
    {
     "name": "stdout",
     "output_type": "stream",
     "text": [
      "enter the number2\n",
      "enter the number3\n",
      "enter the number4\n",
      "enter the number5\n",
      "enter the number6\n",
      "enter the number7\n",
      "enter the number9\n",
      "enter the number10\n",
      "[2, 3, 4, 5, 6, 7, 9, 10]\n"
     ]
    }
   ],
   "source": [
    "di=[]\n",
    "for i in range (2,10):\n",
    "    a=int(input(\"enter the number\"))\n",
    "    di.append(a)\n",
    "print(di)"
   ]
  },
  {
   "cell_type": "code",
   "execution_count": 21,
   "id": "789a2bfc",
   "metadata": {},
   "outputs": [
    {
     "name": "stdout",
     "output_type": "stream",
     "text": [
      "Initail list: \n",
      "[]\n",
      "[12]\n",
      "\n",
      "List after performing Insert operation: \n",
      "['Greek', 12]\n"
     ]
    }
   ],
   "source": [
    "list=[]\n",
    "print(\"Initail list: \")\n",
    "print(list)\n",
    "#addition of elements at specific position(using insert method)\n",
    "list.insert(3,12)\n",
    "print(list)\n",
    "list.insert(0,'Greek')\n",
    "print(\"\\nList after performing Insert operation: \")\n",
    "print(list)\n"
   ]
  },
  {
   "cell_type": "code",
   "execution_count": 16,
   "id": "ce4c77a7",
   "metadata": {},
   "outputs": [
    {
     "name": "stdout",
     "output_type": "stream",
     "text": [
      "\n",
      "Initial list: \n",
      "[1, 2, 3, 4]\n",
      "\n",
      "List after performing Insert operation: \n",
      "[1, 2, 3, 4, 8, 'Greek', 'Always']\n"
     ]
    }
   ],
   "source": [
    "list=[1,2,3,4]\n",
    "print(\"\\nInitial list: \")\n",
    "print(list)\n",
    "list.extend([8,'Greek','Always'])\n",
    "print(\"\\nList after performing Insert operation: \")\n",
    "print(list)\n"
   ]
  },
  {
   "cell_type": "code",
   "execution_count": 23,
   "id": "53ce75ae",
   "metadata": {},
   "outputs": [
    {
     "name": "stdout",
     "output_type": "stream",
     "text": [
      "\n",
      "Initial list: \n",
      "[1, 2, 3, 4, 5, 6, 7, 8, 9, 10, 11, 12]\n",
      "\n",
      "List after removal of two elements: \n",
      "[1, 2, 3, 4, 6, 7, 8, 10, 11, 12]\n"
     ]
    }
   ],
   "source": [
    "list =[1,2,3,4,5,6,7,8,9,10,11,12]\n",
    "print(\"\\nInitial list: \")\n",
    "print(list)\n",
    "\n",
    "#removing elemments from the list using remove() method\n",
    "list.remove(5)\n",
    "list.remove(9)\n",
    "print(\"\\nList after removal of two elements: \")\n",
    "print(list)"
   ]
  },
  {
   "cell_type": "code",
   "execution_count": 26,
   "id": "a1b6282a",
   "metadata": {},
   "outputs": [
    {
     "name": "stdout",
     "output_type": "stream",
     "text": [
      "\n",
      "List after popping an elements: \n",
      "[1, 2, 3, 5]\n"
     ]
    }
   ],
   "source": [
    "list=[1,2,3,4,5]\n",
    "\n",
    "#removing elements from the set using the pop() method\n",
    "\n",
    "list.pop()\n",
    "print(\"\\nList after popping an elements: \")\n",
    "print(list)\n",
    "\n",
    "# agr list.pop() ke andr kch nhi higa to last element hatega nhi to jo v index di hogi wo element\n"
   ]
  },
  {
   "cell_type": "code",
   "execution_count": 31,
   "id": "9354dcf5",
   "metadata": {},
   "outputs": [
    {
     "name": "stdout",
     "output_type": "stream",
     "text": [
      "bananna\n",
      "(1, 2, 3, 4)\n",
      "(5, 6, 6, 7, 8, 9, 10)\n",
      "('apple', 'bananna')\n",
      "('bananna', 'cherry')\n",
      "('apple', 'bananna', 'cherry')\n",
      "(1, 2, 3, 4, 5, 6, 6, 7, 8, 9, 10)\n"
     ]
    }
   ],
   "source": [
    "tup1=(\"apple\",\"bananna\",\"cherry\")\n",
    "tup2=(1,2,3,4,5,6,6,7,8,9,10)\n",
    "print(tup1[1])\n",
    "print(tup2[:4])\n",
    "print(tup2[4:])\n",
    "print(tup1[:2])\n",
    "print(tup1[1:])\n",
    "print(tup1[:])\n",
    "print(tup2[:])\n"
   ]
  },
  {
   "cell_type": "code",
   "execution_count": 33,
   "id": "a76fe0ce",
   "metadata": {},
   "outputs": [
    {
     "name": "stdout",
     "output_type": "stream",
     "text": [
      "3\n"
     ]
    }
   ],
   "source": [
    "tup=(1,2,3,3,5,6,3,8)\n",
    "print(tup.count(3))"
   ]
  },
  {
   "cell_type": "code",
   "execution_count": 35,
   "id": "52d67be1",
   "metadata": {},
   "outputs": [
    {
     "name": "stdout",
     "output_type": "stream",
     "text": [
      "6\n"
     ]
    }
   ],
   "source": [
    "tup=(1,2,3,4,5,6,7,8)\n",
    "print(tup.index(7))"
   ]
  },
  {
   "cell_type": "code",
   "execution_count": 37,
   "id": "d07d96ea",
   "metadata": {},
   "outputs": [
    {
     "name": "stdout",
     "output_type": "stream",
     "text": [
      "This is one\n",
      "This is two\n",
      "{'name': 'john', 'code': 6734, 'dept': 'sales'}\n",
      "<built-in method keys of dict object at 0x00000203838C3280>\n",
      "<built-in method values of dict object at 0x00000203838C3280>\n",
      "sales\n"
     ]
    }
   ],
   "source": [
    "dict={}\n",
    "dict['one']=\"This is one\"\n",
    "dict[2]=\"This is two\"\n",
    "tinydict = {'name':'john','code':6734,'dept':'sales'}\n",
    "print(dict['one'])\n",
    "print(dict[2])\n",
    "print(tinydict)\n",
    "print(tinydict.keys)\n",
    "print(tinydict.values)\n",
    "print(tinydict[\"dept\"])"
   ]
  },
  {
   "cell_type": "code",
   "execution_count": 39,
   "id": "b0a38fd8",
   "metadata": {},
   "outputs": [
    {
     "name": "stdout",
     "output_type": "stream",
     "text": [
      "brand\n",
      "model\n",
      "year\n"
     ]
    }
   ],
   "source": [
    "thisdict ={\n",
    "    \"brand\":\"ford\",\n",
    "    \"model\":\"Mustang\",\n",
    "    \"year\":1964\n",
    "}\n",
    "for x in thisdict:\n",
    "    print(x)"
   ]
  },
  {
   "cell_type": "code",
   "execution_count": 42,
   "id": "80fe11f1",
   "metadata": {},
   "outputs": [
    {
     "name": "stdout",
     "output_type": "stream",
     "text": [
      "{'brand': 'ford', 'model': 'Mustang', 'year': 1964}\n",
      "{'brand': 'ford', 'model': 'Mustang', 'year': 2018}\n"
     ]
    }
   ],
   "source": [
    "thisdict ={\n",
    "    \"brand\":\"ford\",\n",
    "    \"model\":\"Mustang\",\n",
    "    \"year\":1964\n",
    "}\n",
    "print(thisdict)\n",
    "#changing the values of keys in dict\n",
    "thisdict[\"year\"]=2018\n",
    "print(thisdict)"
   ]
  },
  {
   "cell_type": "code",
   "execution_count": 44,
   "id": "35836db7",
   "metadata": {},
   "outputs": [
    {
     "name": "stdout",
     "output_type": "stream",
     "text": [
      "{'brand': 'ford', 'model': 'Mustang', 'year': 1964}\n",
      "{'brand': 'ford', 'model': 'Mustang', 'year': 1964, 'color': 'red'}\n"
     ]
    }
   ],
   "source": [
    "thisdict ={\n",
    "    \"brand\":\"ford\",\n",
    "    \"model\":\"Mustang\",\n",
    "    \"year\":1964\n",
    "}\n",
    "print(thisdict)\n",
    "thisdict[\"color\"]=\"red\"\n",
    "print(thisdict)"
   ]
  },
  {
   "cell_type": "code",
   "execution_count": 50,
   "id": "eaeb797e",
   "metadata": {},
   "outputs": [
    {
     "name": "stdout",
     "output_type": "stream",
     "text": [
      "{'name': 'Zara', 'age': 7, 'Class': 'Fifth', 'School': 'DAV public'}\n",
      "dict['age'] 7\n",
      "dict['School'] DAV public\n",
      "{'name': 'Zara', 'age': 7, 'Class': 'Fifth', 'School': 'DAV public'}\n",
      "{'age': 7, 'Class': 'Fifth', 'School': 'DAV public'}\n"
     ]
    }
   ],
   "source": [
    "dict={\n",
    "    \"name\":\"Zara\",\n",
    "    \"age\":7,\n",
    "    \"Class\":\"Fifth\",\n",
    "    \"School\":\"DAV public\"\n",
    "}\n",
    "print(dict)\n",
    "print(\"dict['age']\",dict[\"age\"])\n",
    "print(\"dict['School']\",dict['School'])\n",
    "print(dict)\n",
    "#dict.clear()\n",
    "del dict[\"name\"]\n",
    "print(dict)\n"
   ]
  },
  {
   "cell_type": "code",
   "execution_count": null,
   "id": "d37239a5",
   "metadata": {},
   "outputs": [],
   "source": []
  },
  {
   "cell_type": "code",
   "execution_count": null,
   "id": "a756fbbd",
   "metadata": {},
   "outputs": [],
   "source": []
  }
 ],
 "metadata": {
  "kernelspec": {
   "display_name": "Python 3 (ipykernel)",
   "language": "python",
   "name": "python3"
  },
  "language_info": {
   "codemirror_mode": {
    "name": "ipython",
    "version": 3
   },
   "file_extension": ".py",
   "mimetype": "text/x-python",
   "name": "python",
   "nbconvert_exporter": "python",
   "pygments_lexer": "ipython3",
   "version": "3.9.12"
  }
 },
 "nbformat": 4,
 "nbformat_minor": 5
}
