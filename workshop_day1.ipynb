{
 "cells": [
  {
   "cell_type": "code",
   "execution_count": 1,
   "id": "396ff3fb",
   "metadata": {},
   "outputs": [
    {
     "name": "stdout",
     "output_type": "stream",
     "text": [
      "20\n"
     ]
    }
   ],
   "source": [
    "Ab = 10\n",
    "print(Ab + 10)"
   ]
  },
  {
   "cell_type": "code",
   "execution_count": 5,
   "id": "18e8b15f",
   "metadata": {},
   "outputs": [
    {
     "name": "stdout",
     "output_type": "stream",
     "text": [
      "sum of a and b is:--  15\n",
      "difference of a and b is:--  5\n",
      "multiplication of a and b is:--  50\n",
      "quotient when a is divided by b:--  2.0\n"
     ]
    }
   ],
   "source": [
    "a = 10\n",
    "b = 5\n",
    "c = a + b\n",
    "D = a - b\n",
    "E_g = a*b\n",
    "F1 = a/b\n",
    "print(\"sum of a and b is:-- \",c)\n",
    "print(\"difference of a and b is:-- \",D)\n",
    "print(\"multiplication of a and b is:-- \",E_g)\n",
    "print(\"quotient when a is divided by b:-- \",F1)"
   ]
  },
  {
   "cell_type": "code",
   "execution_count": 7,
   "id": "038063f6",
   "metadata": {},
   "outputs": [
    {
     "name": "stdout",
     "output_type": "stream",
     "text": [
      "<class 'int'>\n",
      "<class 'complex'>\n",
      "<class 'str'>\n",
      "<class 'float'>\n"
     ]
    }
   ],
   "source": [
    "x = 1\n",
    "y = 3.14j\n",
    "z = \"hello world\"\n",
    "p = 2.3\n",
    "print(type(x))\n",
    "print(type(y))\n",
    "print(type(z))\n",
    "print(type(p))"
   ]
  },
  {
   "cell_type": "code",
   "execution_count": 1,
   "id": "d8af0f38",
   "metadata": {},
   "outputs": [
    {
     "name": "stdout",
     "output_type": "stream",
     "text": [
      "Enter the first number:  2\n",
      "Enter the second number:  4\n",
      "quoitent is :--  0\n",
      "remainder is:--  2\n"
     ]
    }
   ],
   "source": [
    "a=int(input(\"Enter the first number:  \"))\n",
    "b=int(input(\"Enter the second number:  \"))\n",
    "quotient= a//b\n",
    "remainder= a%b\n",
    "print(\"quoitent is :-- \",quotient)\n",
    "print(\"remainder is:-- \",remainder)"
   ]
  },
  {
   "cell_type": "code",
   "execution_count": 8,
   "id": "9c5abadd",
   "metadata": {},
   "outputs": [
    {
     "name": "stdout",
     "output_type": "stream",
     "text": [
      "hello world!\n",
      "h\n",
      "llo\n",
      "llo world!\n",
      "hello world!hello world!\n",
      "hello world!TEST\n"
     ]
    }
   ],
   "source": [
    "str=\"hello world!\"\n",
    "print(str)\n",
    "print(str[0])\n",
    "print(str[2:5])\n",
    "print(str[2:])\n",
    "print(str*2)\n",
    "print(str+'TEST') #concatination"
   ]
  },
  {
   "cell_type": "code",
   "execution_count": 10,
   "id": "3e4b7807",
   "metadata": {},
   "outputs": [
    {
     "name": "stdout",
     "output_type": "stream",
     "text": [
      "['abcd', 786, 2.23, 'john', 70.2]\n",
      "abcd\n",
      "[786, 2.23]\n",
      "[2.23, 'john', 70.2]\n",
      "['abcd', 786, 2.23, 'john', 70.2, 'abcd', 786, 2.23, 'john', 70.2]\n",
      "['abcd', 786, 2.23, 'john', 70.2, 123, 'john']\n"
     ]
    }
   ],
   "source": [
    "list = ['abcd',786,2.23,'john',70.2]\n",
    "tinylist = [123,'john']\n",
    "print(list)\n",
    "print(list[0])\n",
    "print(list[1:3])\n",
    "print(list[2:])\n",
    "print(list*2)\n",
    "print(list+tinylist)\n",
    "\n"
   ]
  },
  {
   "cell_type": "code",
   "execution_count": 11,
   "id": "a33d4ec5",
   "metadata": {},
   "outputs": [
    {
     "name": "stdout",
     "output_type": "stream",
     "text": [
      "('abcd', 786, 2.23, 'john', 70.2)\n",
      "abcd\n",
      "(786, 2.23)\n",
      "(2.23, 'john', 70.2)\n",
      "('abcd', 786, 2.23, 'john', 70.2, 'abcd', 786, 2.23, 'john', 70.2)\n",
      "('abcd', 786, 2.23, 'john', 70.2, 123, 'john')\n"
     ]
    }
   ],
   "source": [
    "tuple = ('abcd',786,2.23,'john',70.2)\n",
    "tinytuple = (123,'john')\n",
    "print(tuple)\n",
    "print(tuple[0])\n",
    "print(tuple[1:3])\n",
    "print(tuple[2:])\n",
    "print(tuple*2)\n",
    "print(tuple+tinytuple)"
   ]
  },
  {
   "cell_type": "code",
   "execution_count": 13,
   "id": "93c9f44b",
   "metadata": {},
   "outputs": [
    {
     "name": "stdout",
     "output_type": "stream",
     "text": [
      "this is one\n",
      "this is two\n",
      "{'name': ' john', 'code': 6734, 'dept': 'sales'}\n",
      "dict_keys(['name', 'code', 'dept'])\n",
      "dict_values([' john', 6734, 'sales'])\n"
     ]
    }
   ],
   "source": [
    "dict = {}\n",
    "dict['one'] = \"this is one\"\n",
    "dict[2] = \"this is two\"\n",
    "tinydict = {'name': ' john','code':6734,'dept': 'sales'}\n",
    "print(dict['one'])\n",
    "print(dict[2])\n",
    "print(tinydict)\n",
    "print(tinydict.keys())\n",
    "print(tinydict.values())"
   ]
  },
  {
   "cell_type": "code",
   "execution_count": 14,
   "id": "d0063d5c",
   "metadata": {},
   "outputs": [
    {
     "name": "stdout",
     "output_type": "stream",
     "text": [
      "Enter the first number6\n",
      "Enter the scond number8\n",
      "14\n"
     ]
    }
   ],
   "source": [
    "a =int(input(\"Enter the first number\"))\n",
    "b =int(input(\"Enter the scond number\"))\n",
    "sum = a+b\n",
    "print(sum)"
   ]
  },
  {
   "cell_type": "code",
   "execution_count": 3,
   "id": "4e4015fa",
   "metadata": {},
   "outputs": [
    {
     "name": "stdout",
     "output_type": "stream",
     "text": [
      "Basic salary:-- 120000\n",
      "Your grosspay salary is:--  159000.0\n"
     ]
    }
   ],
   "source": [
    "#Get Basic Salary of employee\n",
    "basic = float(input(\"Basic salary:-- \"))\n",
    "da = float(basic*0.25)\n",
    "hra = float(basic*0.15)\n",
    "pf = float((basic+da)*0.12)\n",
    "ta = float(basic*0.075)\n",
    "netpay = float(basic + da + hra + ta)\n",
    "grosspay = (netpay-pf)\n",
    "print(\"Your grosspay salary is:-- \",grosspay)"
   ]
  },
  {
   "cell_type": "code",
   "execution_count": 1,
   "id": "d43012be",
   "metadata": {},
   "outputs": [
    {
     "name": "stdout",
     "output_type": "stream",
     "text": [
      "Enter the first side4\n",
      "Enter the second side4\n",
      "Enter the third side4\n",
      "the area of the triangle is :--  6.928203230275509\n"
     ]
    }
   ],
   "source": [
    "#area of triangle\n",
    "\n",
    "a = float(input(\"Enter the first side\"))\n",
    "b = float(input(\"Enter the second side\"))\n",
    "c = float(input(\"Enter the third side\"))\n",
    "\n",
    "#calculate the semi perimeter\n",
    "s=(a+b+c)/2\n",
    "\n",
    "#calculate area\n",
    "area=(s*(s-a)*(s-b)*(s-c)) ** 0.5\n",
    "print(\"the area of the triangle is :-- \",area)\n"
   ]
  },
  {
   "cell_type": "code",
   "execution_count": 5,
   "id": "93a6401b",
   "metadata": {},
   "outputs": [
    {
     "name": "stdout",
     "output_type": "stream",
     "text": [
      "8\n",
      "10\n",
      "False\n"
     ]
    }
   ],
   "source": [
    "#logical expressions\n",
    "p=10\n",
    "q=8\n",
    "r = p and q\n",
    "s = p or q \n",
    "t = not p\n",
    "\n",
    "print(r)\n",
    "print(s)\n",
    "print(t)"
   ]
  },
  {
   "cell_type": "code",
   "execution_count": 11,
   "id": "cb80c993",
   "metadata": {},
   "outputs": [
    {
     "name": "stdout",
     "output_type": "stream",
     "text": [
      "x and y is True\n"
     ]
    }
   ],
   "source": [
    "x = True\n",
    "y = False\n",
    "\n",
    "print('x and y is', x and y)"
   ]
  },
  {
   "cell_type": "code",
   "execution_count": 2,
   "id": "68f7835f",
   "metadata": {},
   "outputs": [
    {
     "name": "stdout",
     "output_type": "stream",
     "text": [
      "x or y is True\n",
      "x not y is True\n"
     ]
    }
   ],
   "source": [
    "x = True\n",
    "y = False\n",
    "\n",
    "print('x or y is', x or y)\n",
    "print('x not y is',  not y)"
   ]
  },
  {
   "cell_type": "code",
   "execution_count": 7,
   "id": "30cd6475",
   "metadata": {},
   "outputs": [
    {
     "name": "stdout",
     "output_type": "stream",
     "text": [
      "Line 1 - value of C is :-- 12\n",
      "line 2 - value uf c is:-- 61\n",
      "Line 3 - value of c is:-- 49\n",
      "Line 4 - value of c is:-- -61\n"
     ]
    }
   ],
   "source": [
    "a = 60\n",
    "b = 13\n",
    "c = 0\n",
    "\n",
    "c = a & b;\n",
    "print(\"Line 1 - value of C is :--\",c)\n",
    "c = a|b;\n",
    "print(\"line 2 - value uf c is:--\",c)\n",
    "c = a ^ b;\n",
    "print(\"Line 3 - value of c is:--\",c)\n",
    "c =~ a;\n",
    "print(\"Line 4 - value of c is:--\",c)\n"
   ]
  },
  {
   "cell_type": "code",
   "execution_count": 9,
   "id": "ecef15b5",
   "metadata": {},
   "outputs": [
    {
     "name": "stdout",
     "output_type": "stream",
     "text": [
      "Enter your age18\n",
      "You can vote\n",
      "CONGRATS!!\n"
     ]
    }
   ],
   "source": [
    "age = int(input(\"Enter your age\"))\n",
    "if age>=18:\n",
    "    print(\"You can vote\")\n",
    "    print(\"CONGRATS!!\")\n",
    "else:\n",
    "    print(\"you can not vote till you will be of 18\")\n",
    "    "
   ]
  },
  {
   "cell_type": "code",
   "execution_count": 1,
   "id": "16fa31d3",
   "metadata": {},
   "outputs": [
    {
     "name": "stdout",
     "output_type": "stream",
     "text": [
      "Enter your first number40\n",
      "Enter your second number40\n",
      "Enter your third number41\n",
      "41\n"
     ]
    }
   ],
   "source": [
    "a= int(input(\"Enter your first number\"))\n",
    "b=int(input(\"Enter your second number\"))\n",
    "c=int(input(\"Enter your third number\"))\n",
    "if a>b:\n",
    "    if a>c:\n",
    "        print(a)\n",
    "    else:\n",
    "        print(c)\n",
    "else:\n",
    "    if b>c:\n",
    "        print(b)\n",
    "    else:\n",
    "        print(c)\n",
    "        \n",
    "        "
   ]
  },
  {
   "cell_type": "code",
   "execution_count": 2,
   "id": "54df3b00",
   "metadata": {},
   "outputs": [
    {
     "name": "stdout",
     "output_type": "stream",
     "text": [
      "Enter the number6\n",
      "it is an even number\n"
     ]
    }
   ],
   "source": [
    "num1 = int(input(\"Enter the number\"))\n",
    "if num1%2==0:\n",
    "    print(\"it is an even number\")\n",
    "else:\n",
    "    print(\"It is an odd number\")"
   ]
  },
  {
   "cell_type": "code",
   "execution_count": 4,
   "id": "210bbc55",
   "metadata": {},
   "outputs": [
    {
     "name": "stdout",
     "output_type": "stream",
     "text": [
      "Enter your percentage99.99\n",
      "Grade A\n"
     ]
    }
   ],
   "source": [
    "percentage = float(input(\"Enter your percentage\"))\n",
    "if percentage>=90:\n",
    "    print(\"Grade A\")\n",
    "elif percentage>=80:\n",
    "    print(\"Grade B\")\n",
    "elif percentage>70:\n",
    "    print(\"Grade C\")\n",
    "elif percentage>=60:\n",
    "    print(\"Grade D\")\n",
    "elif percentage>=50:\n",
    "    print(\"Grade E\")\n",
    "else:\n",
    "    print(\"Fail\")"
   ]
  },
  {
   "cell_type": "code",
   "execution_count": 5,
   "id": "08760fe8",
   "metadata": {},
   "outputs": [
    {
     "name": "stdout",
     "output_type": "stream",
     "text": [
      "Enter th first number 56\n",
      "Enter th second number 57\n",
      "Enter th third number 58\n",
      "The largest number is  58\n"
     ]
    }
   ],
   "source": [
    "num1 = int(input(\"Enter th first number \"))\n",
    "num2 = int(input(\"Enter th second number \"))\n",
    "num3 = int(input(\"Enter th third number \"))\n",
    "\n",
    "if(num1>num2) and (num1>num3):\n",
    "    largest= num1\n",
    "elif(num2>num1) and (num2>num3):\n",
    "    largest = num2\n",
    "else:\n",
    "    largest = num3\n",
    "print(\"The largest number is \",largest)    \n"
   ]
  },
  {
   "cell_type": "code",
   "execution_count": null,
   "id": "2020f35e",
   "metadata": {},
   "outputs": [],
   "source": []
  }
 ],
 "metadata": {
  "kernelspec": {
   "display_name": "Python 3 (ipykernel)",
   "language": "python",
   "name": "python3"
  },
  "language_info": {
   "codemirror_mode": {
    "name": "ipython",
    "version": 3
   },
   "file_extension": ".py",
   "mimetype": "text/x-python",
   "name": "python",
   "nbconvert_exporter": "python",
   "pygments_lexer": "ipython3",
   "version": "3.9.12"
  }
 },
 "nbformat": 4,
 "nbformat_minor": 5
}
