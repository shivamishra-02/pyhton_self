{
 "cells": [
  {
   "cell_type": "code",
   "execution_count": 4,
   "id": "bf179209",
   "metadata": {},
   "outputs": [
    {
     "name": "stdout",
     "output_type": "stream",
     "text": [
      "enter the number5\n",
      "1\n",
      "01\n",
      "101\n",
      "0101\n",
      "10101\n"
     ]
    }
   ],
   "source": [
    "n=int(input(\"enter the number\"))\n",
    "for i in range(1,n+1):\n",
    "    for j in range(1,i+1):\n",
    "        if (i+j)%2==0:\n",
    "            print(\"1\",end=\"\")\n",
    "        else:\n",
    "            print(\"0\",end=\"\")\n",
    "    print()        "
   ]
  },
  {
   "cell_type": "code",
   "execution_count": 5,
   "id": "595e25a2",
   "metadata": {},
   "outputs": [
    {
     "name": "stdout",
     "output_type": "stream",
     "text": [
      "Enter the first number5\n",
      "Enter the second number6\n",
      "the swapped value of a is 6\n",
      "The swapped value of b is 5\n"
     ]
    }
   ],
   "source": [
    "#program to swap the numbers\n",
    "a=int(input(\"Enter the first number\"))\n",
    "b=int(input(\"Enter the second number\"))\n",
    "c=a\n",
    "a=b\n",
    "b=c\n",
    "print(\"the swapped value of a is\",a)\n",
    "print(\"The swapped value of b is\",b)"
   ]
  },
  {
   "cell_type": "code",
   "execution_count": 1,
   "id": "1e24c442",
   "metadata": {},
   "outputs": [
    {
     "name": "stdout",
     "output_type": "stream",
     "text": [
      "Calculate the area\n",
      "\n",
      "1. circle\n",
      "2. square\n",
      "3. rectangle\n",
      "\n",
      "Enter the choice\n",
      "2\n",
      "Enter the length of the side of the square\n",
      "6\n",
      "Area of the square is:  36\n"
     ]
    }
   ],
   "source": [
    "#program to find the area of different figures from a singke program\n",
    "print(\"Calculate the area\\n\")\n",
    "print('''1. circle\n",
    "2. square\n",
    "3. rectangle\n",
    "''')\n",
    "choice=int(input(\"Enter the choice\\n\"))\n",
    "if choice == 1:\n",
    "    \n",
    "    radius=int(input(\"Enter the radius of circle\\n\"))\n",
    "    area = 3.14*radius*radius\n",
    "    print(\"Area of the circle is: \",area)\n",
    "elif choice ==2:\n",
    "    side=int(input(\"Enter the length of the side of the square\\n\"))\n",
    "    area= side*side\n",
    "    print(\"Area of the square is: \",area)\n",
    "elif choice == 3:\n",
    "    length=int(input(\"Enter the length of the rectangle\\n\"))\n",
    "    bredth=int(input(\"Enter the bredth of the rectangle\\n\"))\n",
    "    area = length*bredth\n",
    "    print(\"Area of rectangle is: \",area)\n",
    "else:\n",
    "    print(\"Choose 1 , 2 or 3\")"
   ]
  },
  {
   "cell_type": "code",
   "execution_count": 2,
   "id": "d938b5b2",
   "metadata": {},
   "outputs": [
    {
     "name": "stdout",
     "output_type": "stream",
     "text": [
      ":--  1\n",
      ":--  2\n",
      ":--  3\n",
      ":--  4\n",
      ":--  5\n",
      ":--  6\n",
      ":--  7\n",
      ":--  8\n",
      ":--  9\n",
      ":--  10\n"
     ]
    }
   ],
   "source": [
    "n=0\n",
    "while n<10:\n",
    "    n+=1\n",
    "    print(\":-- \",n)"
   ]
  },
  {
   "cell_type": "code",
   "execution_count": 4,
   "id": "24804196",
   "metadata": {},
   "outputs": [
    {
     "name": "stdout",
     "output_type": "stream",
     "text": [
      "Enter the number of which you want the table of6\n",
      "6 x 1 = 6\n",
      "6 x 2 = 12\n",
      "6 x 3 = 18\n",
      "6 x 4 = 24\n",
      "6 x 5 = 30\n",
      "6 x 6 = 36\n",
      "6 x 7 = 42\n",
      "6 x 8 = 48\n",
      "6 x 9 = 54\n",
      "6 x 10 = 60\n"
     ]
    }
   ],
   "source": [
    "n=int(input(\"Enter the number of which you want the table of\"))\n",
    "m=0\n",
    "while m<10:\n",
    "    m+=1\n",
    "    p=n*m\n",
    "    print(f\"{n} x {m} = {p}\")\n",
    "    "
   ]
  },
  {
   "cell_type": "code",
   "execution_count": 7,
   "id": "0cc8e5d9",
   "metadata": {},
   "outputs": [
    {
     "name": "stdout",
     "output_type": "stream",
     "text": [
      "Enter the number of which you want the reverse table of6\n",
      "6 x 10 = 60\n",
      "6 x 9 = 54\n",
      "6 x 8 = 48\n",
      "6 x 7 = 42\n",
      "6 x 6 = 36\n",
      "6 x 5 = 30\n",
      "6 x 4 = 24\n",
      "6 x 3 = 18\n",
      "6 x 2 = 12\n",
      "6 x 1 = 6\n"
     ]
    }
   ],
   "source": [
    "n=int(input(\"Enter the number of which you want the reverse table of\"))\n",
    "m=11\n",
    "while m>1:\n",
    "    m-=1\n",
    "    p=n*m\n",
    "    print(f\"{n} x {m} = {p}\")"
   ]
  },
  {
   "cell_type": "code",
   "execution_count": 15,
   "id": "a874f214",
   "metadata": {},
   "outputs": [
    {
     "name": "stdout",
     "output_type": "stream",
     "text": [
      "Enter a number n\n",
      "7\n",
      "The sum of first n natural number is:--  28\n"
     ]
    }
   ],
   "source": [
    "#sum of first n natural numbers using while loop\n",
    "num=int(input(\"Enter a number n\\n\"))\n",
    "sum_n=0\n",
    "while num>0:\n",
    "    sum_n=sum_n+num\n",
    "    num=num-1\n",
    "print(\"The sum of first n natural number is:-- \",sum_n)"
   ]
  },
  {
   "cell_type": "code",
   "execution_count": 17,
   "id": "17316bfc",
   "metadata": {},
   "outputs": [
    {
     "name": "stdout",
     "output_type": "stream",
     "text": [
      "The sum of numbers is:--  550\n"
     ]
    }
   ],
   "source": [
    "#seuqence using for loop\n",
    "numbers=[10,20,30,40,50,60,70,80,90,100]\n",
    "sum_n=0\n",
    "for val in numbers:\n",
    "    sum_n=sum_n+val\n",
    "print(\"The sum of numbers is:-- \",sum_n)"
   ]
  },
  {
   "cell_type": "code",
   "execution_count": 22,
   "id": "d091377c",
   "metadata": {},
   "outputs": [
    {
     "name": "stdout",
     "output_type": "stream",
     "text": [
      "2\n",
      "4\n",
      "6\n",
      "8\n",
      "10\n",
      "12\n",
      "14\n",
      "16\n",
      "18\n",
      "20\n"
     ]
    }
   ],
   "source": [
    "for i in range(1,21):\n",
    "    if i%2==0:\n",
    "        print(i)"
   ]
  },
  {
   "cell_type": "code",
   "execution_count": 5,
   "id": "dc044200",
   "metadata": {},
   "outputs": [
    {
     "name": "stdout",
     "output_type": "stream",
     "text": [
      "2\n",
      "4\n",
      "6\n",
      "8\n",
      "10\n",
      "12\n",
      "14\n",
      "16\n",
      "18\n",
      "20\n"
     ]
    }
   ],
   "source": [
    "for i in range(1,21):\n",
    "    if i%2==0:\n",
    "        print(i)"
   ]
  },
  {
   "cell_type": "code",
   "execution_count": 4,
   "id": "bef66316",
   "metadata": {},
   "outputs": [
    {
     "name": "stdout",
     "output_type": "stream",
     "text": [
      "Enter the number of which you want the table of\n",
      "6\n",
      "😎😎😎😎😎😎😎😎😎😎😎😎😎😎😎😎😎😎😎😎\n",
      "6 X 1 = 6\n",
      "❤❤❤❤❤❤❤❤❤❤❤❤\n",
      "6 X 2 = 12\n",
      "❤❤❤❤❤❤❤❤❤❤❤❤\n",
      "6 X 3 = 18\n",
      "❤❤❤❤❤❤❤❤❤❤❤❤\n",
      "6 X 4 = 24\n",
      "❤❤❤❤❤❤❤❤❤❤❤❤\n",
      "6 X 5 = 30\n",
      "❤❤❤❤❤❤❤❤❤❤❤❤\n",
      "6 X 6 = 36\n",
      "❤❤❤❤❤❤❤❤❤❤❤❤\n",
      "6 X 7 = 42\n",
      "❤❤❤❤❤❤❤❤❤❤❤❤\n",
      "6 X 8 = 48\n",
      "❤❤❤❤❤❤❤❤❤❤❤❤\n",
      "6 X 9 = 54\n",
      "❤❤❤❤❤❤❤❤❤❤❤❤\n",
      "6 X 10 = 60\n",
      "❤❤❤❤❤❤❤❤❤❤❤❤\n"
     ]
    }
   ],
   "source": [
    "#print table using for loop\n",
    "n=int(input(\"Enter the number of which you want the table of\\n\"))\n",
    "print(\"😎\"*20)\n",
    "for i in range(1,11):\n",
    "    print(n,\"X\",i,\"=\",n*i)\n",
    "    print(\"❤\"*12)"
   ]
  },
  {
   "cell_type": "code",
   "execution_count": 4,
   "id": "09c00a91",
   "metadata": {},
   "outputs": [
    {
     "name": "stdout",
     "output_type": "stream",
     "text": [
      "7\n",
      "14\n",
      "21\n",
      "28\n",
      "35\n",
      "42\n",
      "49\n",
      "56\n",
      "63\n",
      "70\n",
      "77\n",
      "84\n",
      "91\n",
      "98\n"
     ]
    }
   ],
   "source": [
    "#program to print all the numbers divisible by 7 from 1 to 100\n",
    "for i in range(1,101):\n",
    "    if i%7==0:\n",
    "        print(i)"
   ]
  },
  {
   "cell_type": "code",
   "execution_count": 5,
   "id": "1acaa3fd",
   "metadata": {},
   "outputs": [
    {
     "name": "stdout",
     "output_type": "stream",
     "text": [
      "0\n",
      "25\n",
      "50\n",
      "75\n"
     ]
    }
   ],
   "source": [
    "#25 ka gap leke print hoga\n",
    "for i in range(0,100,25):\n",
    "    print(i)"
   ]
  },
  {
   "cell_type": "code",
   "execution_count": 12,
   "id": "0362580e",
   "metadata": {},
   "outputs": [
    {
     "name": "stdout",
     "output_type": "stream",
     "text": [
      "Enter the number5\n",
      "5\n",
      "4\n",
      "3\n",
      "2\n",
      "1\n"
     ]
    }
   ],
   "source": [
    "#reverse krne k liye -1 ka use krte hai and insitiallisation v ulta ho jata hai\n",
    "n=int(input(\"Enter the number\"))\n",
    "for i in range(n,0,-1):\n",
    "    print(i)"
   ]
  },
  {
   "cell_type": "code",
   "execution_count": 31,
   "id": "7d855faa",
   "metadata": {},
   "outputs": [
    {
     "name": "stdout",
     "output_type": "stream",
     "text": [
      "Enter the number of which you want the factorial of\n",
      "5\n",
      "The factorial of  5 is:--  120\n"
     ]
    }
   ],
   "source": [
    "#program to find factorial using for loop\n",
    "n=int(input(\"Enter the number of which you want the factorial of\\n\"))\n",
    "f=1\n",
    "for i in range(1,n+1):\n",
    "    f=f*i\n",
    "print(\"The factorial of \",n,\"is:-- \",f )   "
   ]
  },
  {
   "cell_type": "code",
   "execution_count": 28,
   "id": "314a71b4",
   "metadata": {},
   "outputs": [
    {
     "name": "stdout",
     "output_type": "stream",
     "text": [
      "Enter the nuber of which you want to find the factorial of\n",
      "5\n",
      "The factorial of  5 is:--  120\n"
     ]
    }
   ],
   "source": [
    "n=int(input(\"Enter the nuber of which you want to find the factorial of\\n\"))\n",
    "f=1\n",
    "i=1\n",
    "while i<=n:\n",
    "    f=f*i\n",
    "    i=i+1\n",
    "print(\"The factorial of \",n,\"is:-- \",f)    \n",
    "    "
   ]
  },
  {
   "cell_type": "code",
   "execution_count": 32,
   "id": "a891446e",
   "metadata": {},
   "outputs": [
    {
     "name": "stdout",
     "output_type": "stream",
     "text": [
      "Enter the digit\n",
      "71\n",
      "The total sum of the digits is:-- 8\n"
     ]
    }
   ],
   "source": [
    "# to add the digits of any number\n",
    "n=int(input(\"Enter the digit\\n\"))\n",
    "x=0\n",
    "while(n>0):\n",
    "    d=n%10\n",
    "    x=x+d\n",
    "    n=n//10\n",
    "print(\"The total sum of the digits is:--\",x)    "
   ]
  },
  {
   "cell_type": "code",
   "execution_count": 34,
   "id": "e4bb10a6",
   "metadata": {},
   "outputs": [
    {
     "name": "stdout",
     "output_type": "stream",
     "text": [
      "Enter the number\n",
      "56\n",
      "number of digits of entered number is:-- 2\n"
     ]
    }
   ],
   "source": [
    "n=int(input(\"Enter the number\\n\"))\n",
    "count=0\n",
    "while n>0:\n",
    "    count+=1\n",
    "    n//=10\n",
    "print(\"number of digits of entered number is:--\",count)    "
   ]
  },
  {
   "cell_type": "code",
   "execution_count": 37,
   "id": "852d92c8",
   "metadata": {},
   "outputs": [
    {
     "name": "stdout",
     "output_type": "stream",
     "text": [
      "Enter the number for thr number pattern6\n",
      "1\n",
      "22\n",
      "333\n",
      "4444\n",
      "55555\n",
      "666666\n"
     ]
    }
   ],
   "source": [
    "n=int(input(\"Enter the number for thr number pattern\"))\n",
    "for i in range(1,n+1):\n",
    "    for j in range(i):\n",
    "        print(i,end=\"\")\n",
    "    print()    "
   ]
  },
  {
   "cell_type": "code",
   "execution_count": 39,
   "id": "00b86d8f",
   "metadata": {},
   "outputs": [
    {
     "name": "stdout",
     "output_type": "stream",
     "text": [
      "Enter the number of stars in first row to print reverse pyramid\n",
      "6\n",
      "******\n",
      "*****\n",
      "****\n",
      "***\n",
      "**\n",
      "*\n"
     ]
    }
   ],
   "source": [
    "#reverse pyramid\n",
    "n=int(input(\"Enter the number of stars in first row to print reverse pyramid\\n\"))\n",
    "for i in range(n,0,-1):\n",
    "    for j in range(i):\n",
    "        print(\"*\",end=\"\")\n",
    "    print()    "
   ]
  },
  {
   "cell_type": "code",
   "execution_count": 1,
   "id": "f6a273cf",
   "metadata": {},
   "outputs": [
    {
     "name": "stdout",
     "output_type": "stream",
     "text": [
      "Enter the number\n",
      "79\n",
      "A\n",
      "BB\n",
      "CCC\n",
      "DDDD\n",
      "EEEEE\n",
      "FFFFFF\n",
      "GGGGGGG\n",
      "HHHHHHHH\n",
      "IIIIIIIII\n",
      "JJJJJJJJJJ\n",
      "KKKKKKKKKKK\n",
      "LLLLLLLLLLLL\n",
      "MMMMMMMMMMMMM\n",
      "NNNNNNNNNNNNNN\n"
     ]
    }
   ],
   "source": [
    "n=int(input(\"Enter the number\\n\"))\n",
    "for i in range(65,n):\n",
    "    for j in range(65,i+1):\n",
    "        print(chr(i),end=\"\")\n",
    "    print()    \n"
   ]
  },
  {
   "cell_type": "code",
   "execution_count": 8,
   "id": "9e888ddc",
   "metadata": {},
   "outputs": [
    {
     "name": "stdout",
     "output_type": "stream",
     "text": [
      "red apple\n",
      "red banana\n",
      "red mango\n",
      "big apple\n",
      "big banana\n",
      "big mango\n",
      "tasty apple\n",
      "tasty banana\n",
      "tasty mango\n"
     ]
    }
   ],
   "source": [
    "adj = [\"red\",\"big\",\"tasty\"]\n",
    "fruits = [\"apple\",\"banana\",\"mango\"]\n",
    "\n",
    "for x in adj:\n",
    "    for y in fruits:\n",
    "        print(x,y)\n",
    "        "
   ]
  },
  {
   "cell_type": "code",
   "execution_count": 3,
   "id": "b7a19120",
   "metadata": {},
   "outputs": [
    {
     "name": "stdout",
     "output_type": "stream",
     "text": [
      "Enter the first n numbers of which you want the sum of6\n",
      "Sum of first 5 integers is: 15\n"
     ]
    }
   ],
   "source": [
    "numbers=[1,2,3,4,5,6,7,8,9]\n",
    "num_sum=0\n",
    "count=0\n",
    "for x in numbers:\n",
    "    count+=1\n",
    "    num_sum+=x\n",
    "    if count == 5:\n",
    "        break\n",
    "print(\"Sum of first\",count,\"integers is:\",num_sum)        "
   ]
  },
  {
   "cell_type": "code",
   "execution_count": 6,
   "id": "27c3cfad",
   "metadata": {},
   "outputs": [
    {
     "name": "stdout",
     "output_type": "stream",
     "text": [
      "0\n",
      "1\n",
      "2\n",
      "4\n",
      "5\n"
     ]
    }
   ],
   "source": [
    "for x in range(7):\n",
    "    if x==3 or x==6:\n",
    "        continue\n",
    "    print(x)    "
   ]
  },
  {
   "cell_type": "code",
   "execution_count": 12,
   "id": "ffcf5b67",
   "metadata": {},
   "outputs": [
    {
     "name": "stdout",
     "output_type": "stream",
     "text": [
      "enter the string character\n",
      "shivam\n",
      "SHIVAM\n"
     ]
    }
   ],
   "source": [
    "a=input(\"enter the string character\\n\")\n",
    "if a.isupper():\n",
    "    print(a.lower())\n",
    "elif a.islower():\n",
    "    print(a.upper())\n",
    "else:\n",
    "    print(\"Invalid Entry\")"
   ]
  },
  {
   "cell_type": "code",
   "execution_count": 1,
   "id": "fc06438b",
   "metadata": {},
   "outputs": [
    {
     "name": "stdout",
     "output_type": "stream",
     "text": [
      "Enter the table from which you want to print\n",
      "1\n",
      "Enter the table till you want to print\n",
      "10\n",
      "1 X 1 = 1\n",
      "1 X 2 = 2\n",
      "1 X 3 = 3\n",
      "1 X 4 = 4\n",
      "1 X 5 = 5\n",
      "1 X 6 = 6\n",
      "1 X 7 = 7\n",
      "1 X 8 = 8\n",
      "1 X 9 = 9\n",
      "1 X 10 = 10\n",
      "\n",
      "2 X 1 = 2\n",
      "2 X 2 = 4\n",
      "2 X 3 = 6\n",
      "2 X 4 = 8\n",
      "2 X 5 = 10\n",
      "2 X 6 = 12\n",
      "2 X 7 = 14\n",
      "2 X 8 = 16\n",
      "2 X 9 = 18\n",
      "2 X 10 = 20\n",
      "\n",
      "3 X 1 = 3\n",
      "3 X 2 = 6\n",
      "3 X 3 = 9\n",
      "3 X 4 = 12\n",
      "3 X 5 = 15\n",
      "3 X 6 = 18\n",
      "3 X 7 = 21\n",
      "3 X 8 = 24\n",
      "3 X 9 = 27\n",
      "3 X 10 = 30\n",
      "\n",
      "4 X 1 = 4\n",
      "4 X 2 = 8\n",
      "4 X 3 = 12\n",
      "4 X 4 = 16\n",
      "4 X 5 = 20\n",
      "4 X 6 = 24\n",
      "4 X 7 = 28\n",
      "4 X 8 = 32\n",
      "4 X 9 = 36\n",
      "4 X 10 = 40\n",
      "\n",
      "5 X 1 = 5\n",
      "5 X 2 = 10\n",
      "5 X 3 = 15\n",
      "5 X 4 = 20\n",
      "5 X 5 = 25\n",
      "5 X 6 = 30\n",
      "5 X 7 = 35\n",
      "5 X 8 = 40\n",
      "5 X 9 = 45\n",
      "5 X 10 = 50\n",
      "\n",
      "6 X 1 = 6\n",
      "6 X 2 = 12\n",
      "6 X 3 = 18\n",
      "6 X 4 = 24\n",
      "6 X 5 = 30\n",
      "6 X 6 = 36\n",
      "6 X 7 = 42\n",
      "6 X 8 = 48\n",
      "6 X 9 = 54\n",
      "6 X 10 = 60\n",
      "\n",
      "7 X 1 = 7\n",
      "7 X 2 = 14\n",
      "7 X 3 = 21\n",
      "7 X 4 = 28\n",
      "7 X 5 = 35\n",
      "7 X 6 = 42\n",
      "7 X 7 = 49\n",
      "7 X 8 = 56\n",
      "7 X 9 = 63\n",
      "7 X 10 = 70\n",
      "\n",
      "8 X 1 = 8\n",
      "8 X 2 = 16\n",
      "8 X 3 = 24\n",
      "8 X 4 = 32\n",
      "8 X 5 = 40\n",
      "8 X 6 = 48\n",
      "8 X 7 = 56\n",
      "8 X 8 = 64\n",
      "8 X 9 = 72\n",
      "8 X 10 = 80\n",
      "\n",
      "9 X 1 = 9\n",
      "9 X 2 = 18\n",
      "9 X 3 = 27\n",
      "9 X 4 = 36\n",
      "9 X 5 = 45\n",
      "9 X 6 = 54\n",
      "9 X 7 = 63\n",
      "9 X 8 = 72\n",
      "9 X 9 = 81\n",
      "9 X 10 = 90\n",
      "\n",
      "10 X 1 = 10\n",
      "10 X 2 = 20\n",
      "10 X 3 = 30\n",
      "10 X 4 = 40\n",
      "10 X 5 = 50\n",
      "10 X 6 = 60\n",
      "10 X 7 = 70\n",
      "10 X 8 = 80\n",
      "10 X 9 = 90\n",
      "10 X 10 = 100\n",
      "\n"
     ]
    }
   ],
   "source": [
    "n=int(input(\"Enter the table from, which you want to print\\n\"))\n",
    "m=int(input(\"Enter the table till, you want to print\\n\"))\n",
    "for i in range(n,m+1):\n",
    "    for j in range(1,11):\n",
    "        print(i,\"X\",j,\"=\",i*j)\n",
    "    print()    "
   ]
  },
  {
   "cell_type": "code",
   "execution_count": 6,
   "id": "89a7973d",
   "metadata": {},
   "outputs": [
    {
     "name": "stdout",
     "output_type": "stream",
     "text": [
      "Enter the number of rows6\n",
      "     * \n",
      "    * * \n",
      "   * * * \n",
      "  * * * * \n",
      " * * * * * \n",
      "* * * * * * \n"
     ]
    }
   ],
   "source": [
    "# Program to print full pyramid \n",
    "num_rows = int(input(\"Enter the number of rows\"));\n",
    "for i in range(0, num_rows):\n",
    "\tfor j in range(0, num_rows-i-1):\n",
    "\t\tprint(end=\" \")\n",
    "\tfor j in  range(0, i+1):\n",
    "\t\tprint(\"*\", end=\" \")\n",
    "\tprint()"
   ]
  },
  {
   "cell_type": "code",
   "execution_count": 9,
   "id": "a89d105b",
   "metadata": {},
   "outputs": [
    {
     "name": "stdout",
     "output_type": "stream",
     "text": [
      "Enter the number of rows8\n",
      "        * \n",
      "      * * \n",
      "    * * * \n",
      "  * * * * \n",
      "* * * * * \n",
      "* * * * * * \n",
      "* * * * * * * \n",
      "* * * * * * * * \n"
     ]
    }
   ],
   "source": [
    "#Program to print Right Half Pyramid\n",
    "num_rows = int(input(\"Enter the number of rows\"));\n",
    "k = 8\n",
    "for i in range(0, num_rows):\n",
    "    for j in range(0, k):\n",
    "        print(end=\" \")\n",
    "    k = k - 2\n",
    "    for j in range(0, i+1):\n",
    "        print(\"* \", end=\"\")\n",
    "    print()"
   ]
  },
  {
   "cell_type": "code",
   "execution_count": 10,
   "id": "f5b5e4b4",
   "metadata": {},
   "outputs": [
    {
     "name": "stdout",
     "output_type": "stream",
     "text": [
      "Program to print star pattern: \n",
      "\n",
      "Enter maximum stars you want display on a single line6\n",
      "* \n",
      "* * \n",
      "* * * \n",
      "* * * * \n",
      "* * * * * \n",
      "* * * * * * \n",
      "* * * * * * * \n",
      "* * * * * * * * \n",
      "* * * * * * * \n",
      "* * * * * * \n",
      "* * * * * \n",
      "* * * * \n",
      "* * * \n",
      "* * \n",
      "* \n",
      "\n"
     ]
    }
   ],
   "source": [
    "# Program to print One More Star Pattern Pyramid\n",
    "\n",
    "print(\"Program to print star pattern: \\n\");\n",
    "rows = input(\"Enter maximum stars you want display on a single line\")\n",
    "rows = int (rows)\n",
    "for i in range (0, num_rows):\n",
    "    for j in range(0, i + 1):\n",
    "        print(\"* \", end='')\n",
    "    print(\"\\r\")\n",
    "for i in range (num_rows, 0, -1):\n",
    "    for j in range(0, i -1):\n",
    "        print(\"* \", end='')\n",
    "    print(\"\\r\")"
   ]
  },
  {
   "cell_type": "code",
   "execution_count": 11,
   "id": "78d71863",
   "metadata": {},
   "outputs": [
    {
     "name": "stdout",
     "output_type": "stream",
     "text": [
      "Program to print star pattern in different style: \n",
      "\n",
      "Please enter the number of rows6\n",
      "* * * * * * \n",
      "* * * * * \n",
      "* * * * \n",
      "* * * \n",
      "* * \n",
      "* \n"
     ]
    }
   ],
   "source": [
    "print(\"Program to print star pattern in different style: \\n\");\n",
    "num_rows = int(input('Please enter the number of rows'));\n",
    "for i in range (0,num_rows):  \n",
    "    for j in range (num_rows,i,-1):  \n",
    "        print(\"* \", end=\"\")\n",
    "    print()"
   ]
  },
  {
   "cell_type": "code",
   "execution_count": 12,
   "id": "28222685",
   "metadata": {},
   "outputs": [
    {
     "name": "stdout",
     "output_type": "stream",
     "text": [
      "Please enter the number of rows7\n",
      "*  *  *  *  *  *  *  \n",
      " *  *  *  *  *  *  \n",
      "  *  *  *  *  *  \n",
      "   *  *  *  *  \n",
      "    *  *  *  \n",
      "     *  *  \n",
      "      *  \n"
     ]
    }
   ],
   "source": [
    "num_rows = int(input(\"Please enter the number of rows\"));\n",
    "for i in range(num_rows,0,-1):\n",
    "    for j in range(0, num_rows-i):\n",
    "        print(end=\" \")\n",
    "    for j in range(0,i):\n",
    "        print(\"* \", end=\" \")\n",
    "    print()"
   ]
  },
  {
   "cell_type": "code",
   "execution_count": 2,
   "id": "4e81f5d3",
   "metadata": {},
   "outputs": [
    {
     "name": "stdout",
     "output_type": "stream",
     "text": [
      "Enter the number of rows8\n",
      "       *\n",
      "      ***\n",
      "     *****\n",
      "    *******\n",
      "   *********\n",
      "  ***********\n",
      " *************\n",
      "***************\n",
      " *************\n",
      "  ***********\n",
      "   *********\n",
      "    *******\n",
      "     *****\n",
      "      ***\n",
      "       *\n"
     ]
    }
   ],
   "source": [
    "num_rows = int(input(\"Enter the number of rows\"))\n",
    "k = 0\n",
    "for i in range(1, num_rows + 1): \n",
    "    for j in range (1, (num_rows - i) + 1): \n",
    "        print(end = \" \")          \n",
    "    while k != (2 * i - 1):\n",
    "        print(\"*\", end = \"\")\n",
    "        k = k + 1\n",
    "    k = 0   \n",
    "    print()  \n",
    " \n",
    "k = 2\n",
    "m = 1\n",
    "for i in range(1, num_rows): \n",
    "    for j in range (1, k):\n",
    "        print(end = \" \") \n",
    "    k = k + 1\n",
    "    while m <= (2 * (num_rows - i) - 1): \n",
    "        print(\"*\", end = \"\") \n",
    "        m = m + 1\n",
    "    m = 1\n",
    "    print()"
   ]
  },
  {
   "cell_type": "code",
   "execution_count": 17,
   "id": "52750b3b",
   "metadata": {},
   "outputs": [
    {
     "name": "stdout",
     "output_type": "stream",
     "text": [
      "Enter the last number9\n",
      "   1 \n",
      "   2    1 \n",
      "   4    2    1 \n",
      "   8    4    2    1 \n",
      "  16    8    4    2    1 \n",
      "  32   16    8    4    2    1 \n",
      "  64   32   16    8    4    2    1 \n",
      " 128   64   32   16    8    4    2    1 \n"
     ]
    }
   ],
   "source": [
    "# Python Numeric Pattern Example 6\n",
    "last_num = int(input(\"Enter the last number\"))\n",
    "for i in range(1, last_num):\n",
    "    for j in range(-1+i, -1, -1):\n",
    "        print(format(2**j, \"4d\"), end=' ')\n",
    "    print(\"\")"
   ]
  },
  {
   "cell_type": "code",
   "execution_count": 19,
   "id": "1f872144",
   "metadata": {},
   "outputs": [
    {
     "name": "stdout",
     "output_type": "stream",
     "text": [
      "Enter the number of rows: 9\n",
      "       * * * * * * * * * * \n",
      "        * * * * * * * * * \n",
      "         * * * * * * * * \n",
      "          * * * * * * * \n",
      "           * * * * * * \n",
      "            * * * * * \n",
      "             * * * * \n",
      "              * * * \n",
      "               * * \n",
      "                * \n",
      "* \n",
      "* * \n",
      "* * * \n",
      "* * * * \n",
      "* * * * * \n",
      "* * * * * * \n",
      "* * * * * * * \n",
      "* * * * * * * * \n",
      "* * * * * * * * * \n",
      "* * * * * * * * * * \n"
     ]
    }
   ],
   "source": [
    "rows = int(input(\"Enter the number of rows: \"))  \n",
    "k = rows - 2  \n",
    "# This is used to print the downward pyramid  \n",
    "for i in range(rows, -1 , -1):  \n",
    "    for j in range(k , 0 , -1):  \n",
    "        print(end=\" \")  \n",
    "    k = k + 1  \n",
    "    for j in range(0, i+1):  \n",
    "        print(\"* \" , end=\"\")  \n",
    "    print()  \n",
    "  \n",
    "# This is used to print the upward pyramid  \n",
    "k = 2 * rows  - 2  \n",
    "for i in range(0 , rows+1):  \n",
    "    for j in range(0 , k):  \n",
    "        print(end=\"\")  \n",
    "    k = k - 1  \n",
    "    for j in range(0, i + 1):  \n",
    "        print(\"* \", end=\"\")  \n",
    "    print()  "
   ]
  },
  {
   "cell_type": "code",
   "execution_count": null,
   "id": "dcfa19fc",
   "metadata": {},
   "outputs": [],
   "source": []
  }
 ],
 "metadata": {
  "kernelspec": {
   "display_name": "Python 3 (ipykernel)",
   "language": "python",
   "name": "python3"
  },
  "language_info": {
   "codemirror_mode": {
    "name": "ipython",
    "version": 3
   },
   "file_extension": ".py",
   "mimetype": "text/x-python",
   "name": "python",
   "nbconvert_exporter": "python",
   "pygments_lexer": "ipython3",
   "version": "3.9.12"
  }
 },
 "nbformat": 4,
 "nbformat_minor": 5
}
